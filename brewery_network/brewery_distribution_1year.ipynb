{
 "cells": [
  {
   "cell_type": "code",
   "id": "initial_id",
   "metadata": {
    "collapsed": true,
    "ExecuteTime": {
     "end_time": "2025-02-24T23:25:40.476559Z",
     "start_time": "2025-02-24T23:25:38.721056Z"
    }
   },
   "source": [
    "import gurobipy as gp\n",
    "import pandas as pd\n",
    "from gurobipy import GRB"
   ],
   "outputs": [],
   "execution_count": 1
  },
  {
   "metadata": {
    "ExecuteTime": {
     "end_time": "2025-02-25T00:21:36.027800Z",
     "start_time": "2025-02-25T00:21:36.007116Z"
    }
   },
   "cell_type": "code",
   "outputs": [],
   "execution_count": 70,
   "source": [
    "plants = [\"Afyon\", \"Konya\", \"Import (Izmir)\"]\n",
    "br_exist = [\"Istanbul\", \"Ankara\"]\n",
    "br_pot = [\"Izmir\", \"Sakarya\", \"Adana\"]\n",
    "dc = [\"Istanbul\", \"Izmir\", \"Antalya\", \"Bursa\", \"Kayseri\", \"Export (Izmir)\"]  # Distribution Centers\n",
    "\n",
    "\n",
    "plant_br_data = {\n",
    "    \"Malt Plants\": [\"Afyon\", \"Konya\", \"Import (Izmir)\"],\n",
    "    \"Istanbul\": [0.026, 0.037, 0.032],\n",
    "    \"Ankara\": [0.017, 0.017, 0.033],\n",
    "    \"Izmir\": [0.020, 0.031, 0.004],\n",
    "    \"Sakarya\": [0.019, 0.030, 0.028],\n",
    "    \"Adana\": [0.032, 0.022, 0.048]\n",
    "}\n",
    "\n",
    "ship_plant_br = pd.DataFrame(plant_br_data)\n",
    "ship_plant_br.set_index(\"Malt Plants\", inplace=True)\n",
    "\n",
    "# Data from the table\n",
    "br_dc_data = {\n",
    "    \"Breweries\": [\n",
    "        \"Istanbul\", \"Ankara\", \"Izmir\", \"Sakarya\", \"Adana\"\n",
    "    ],\n",
    "    \"Istanbul\": [0.000, 0.032, 0.040, 0.011, 0.067],\n",
    "    \"Izmir\": [0.040, 0.041, 0.000, 0.034, 0.064],\n",
    "    \"Antalya\": [0.052, 0.039, 0.032, 0.041, 0.040],\n",
    "    \"Bursa\": [0.017, 0.027, 0.023, 0.011, 0.060],\n",
    "    \"Kayseri\": [0.055, 0.023, 0.062, 0.045, 0.024],\n",
    "    \"Export (Izmir)\": [0.042, 0.043, 0.002, 0.036, 0.066]\n",
    "}\n",
    "\n",
    "# Create DataFrame\n",
    "ship_br_dc = pd.DataFrame(br_dc_data)\n",
    "ship_br_dc.set_index(\"Breweries\", inplace=True)\n",
    "\n",
    "# Data from the table\n",
    "demand_data = {\n",
    "    \"Dist. Centers\": [\n",
    "        \"Istanbul\", \"Izmir\", \"Antalya\", \"Bursa\", \"Kayseri\", \"Export (Izmir)\", \"Total\"\n",
    "    ],\n",
    "    1: [103, 74, 50, 60, 102, 13, 402],\n",
    "    2: [110, 80, 53, 75, 110, 13, 441],\n",
    "    3: [125, 90, 60, 85, 125, 15, 500]\n",
    "}\n",
    "\n",
    "# Create DataFrame\n",
    "demand = pd.DataFrame(demand_data)\n",
    "demand.set_index(\"Dist. Centers\", inplace=True)\n",
    "\n",
    "malt_cap = {\"Afyon\": 30, \"Konya\": 68, \"Import (Izmir)\": 20}\n",
    "\n",
    "V = {\"Afyon\": 8.333, \"Konya\": 8.333, \"Import (Izmir)\": 9.091}\n",
    "\n",
    "\n",
    "\n",
    "br_cap_exist ={\"Istanbul\": 220, \"Ankara\": 200}\n",
    "\n",
    "br_cap_pot_data = {\n",
    "    \"Potential Breweries\": [\"Izmir\", \"Sakarya\", \"Adana\"],\n",
    "    \"New\": [70, 70, 70],\n",
    "    \"Expansion\": [50, 50, 50]\n",
    "}\n",
    "# Create DataFrame\n",
    "br_cap_pot = pd.DataFrame(br_cap_pot_data)"
   ],
   "id": "e3bb3636c46566dd"
  },
  {
   "metadata": {
    "ExecuteTime": {
     "end_time": "2025-02-25T00:21:36.325147Z",
     "start_time": "2025-02-25T00:21:36.316622Z"
    }
   },
   "cell_type": "code",
   "source": [
    "m = gp.Model(\"Single Period Distribution\")\n",
    "\n",
    "x = m.addVars(plants, br_exist, lb=0.0, name='x')  # i --> j\n",
    "y = m.addVars(br_exist, dc, lb=0.0, name='y') # j --> k\n",
    "\n",
    "m.update()"
   ],
   "id": "f16a23043fa5f698",
   "outputs": [],
   "execution_count": 71
  },
  {
   "metadata": {
    "ExecuteTime": {
     "end_time": "2025-02-25T00:21:36.644505Z",
     "start_time": "2025-02-25T00:21:36.629803Z"
    }
   },
   "cell_type": "code",
   "source": [
    "# CONSTRAINTS\n",
    "\n",
    "dc_demand = m.addConstrs((gp.quicksum(y[j, k] for j in br_exist) >= demand.loc[k, 1] for k in dc), name='Demand')\n",
    "\n",
    "\n",
    "malt_capacity = m.addConstrs((gp.quicksum(x[i, j] for j in br_exist) <= malt_cap[i] for i in plants), name='Malt Capacity')\n",
    "\n",
    "brew_capacity = m.addConstrs((gp.quicksum(x[i, j] * V[i] for i in plants) <= br_cap_exist[j] for j in br_exist), name='Brewery Capacity')\n",
    "\n",
    "transshipment = m.addConstrs((gp.quicksum(x[i, j] * V[i] for i in plants) - gp.quicksum(y[j, k] for k in dc) >= 0 for j in br_exist), name='Transshipment')\n",
    "\n",
    "m.update()"
   ],
   "id": "6c44b5e5185a4504",
   "outputs": [],
   "execution_count": 72
  },
  {
   "metadata": {
    "ExecuteTime": {
     "end_time": "2025-02-25T00:21:41.442183Z",
     "start_time": "2025-02-25T00:21:41.429297Z"
    }
   },
   "cell_type": "code",
   "source": [
    "# OBJECTIVE\n",
    "\n",
    "m.setObjective(gp.quicksum(ship_plant_br.loc[i, j] * x[i, j] for i in plants for j in br_exist) + gp.quicksum(ship_br_dc.loc[j, k] * y[j, k] for j in br_exist for k in dc), GRB.MINIMIZE)\n",
    "\n",
    "# m.setObjective(0, GRB.MINIMIZE)\n",
    "\n",
    "m.update()"
   ],
   "id": "206e76199101eede",
   "outputs": [],
   "execution_count": 73
  },
  {
   "metadata": {
    "ExecuteTime": {
     "end_time": "2025-02-25T00:21:42.180795Z",
     "start_time": "2025-02-25T00:21:42.139920Z"
    }
   },
   "cell_type": "code",
   "source": "m.optimize()",
   "id": "84e87eeaea48a6a",
   "outputs": [
    {
     "name": "stdout",
     "output_type": "stream",
     "text": [
      "Gurobi Optimizer version 12.0.1 build v12.0.1rc0 (win64 - Windows 11.0 (26100.2))\n",
      "\n",
      "CPU model: AMD Ryzen 7 5800HS with Radeon Graphics, instruction set [SSE2|AVX|AVX2]\n",
      "Thread count: 8 physical cores, 16 logical processors, using up to 16 threads\n",
      "\n",
      "Optimize a model with 13 rows, 18 columns and 42 nonzeros\n",
      "Model fingerprint: 0x8663a3a6\n",
      "Coefficient statistics:\n",
      "  Matrix range     [1e+00, 9e+00]\n",
      "  Objective range  [2e-02, 6e-02]\n",
      "  Bounds range     [0e+00, 0e+00]\n",
      "  RHS range        [1e+01, 2e+02]\n",
      "Presolve removed 1 rows and 0 columns\n",
      "Presolve time: 0.01s\n",
      "Presolved: 12 rows, 18 columns, 40 nonzeros\n",
      "\n",
      "Iteration    Objective       Primal Inf.    Dual Inf.      Time\n",
      "       0    0.0000000e+00   5.025000e+01   0.000000e+00      0s\n",
      "      10    9.9082815e+00   0.000000e+00   0.000000e+00      0s\n",
      "\n",
      "Solved in 10 iterations and 0.02 seconds (0.00 work units)\n",
      "Optimal objective  9.908281531e+00\n"
     ]
    }
   ],
   "execution_count": 74
  },
  {
   "metadata": {
    "ExecuteTime": {
     "end_time": "2025-02-25T00:21:44.268688Z",
     "start_time": "2025-02-25T00:21:44.260525Z"
    }
   },
   "cell_type": "code",
   "source": [
    "for var in m.getVars():\n",
    "    print(var.VarName, var.X)"
   ],
   "id": "be8a2779bdbb1525",
   "outputs": [
    {
     "name": "stdout",
     "output_type": "stream",
     "text": [
      "x[Afyon,Istanbul] 24.24096963878555\n",
      "x[Afyon,Ankara] 0.0\n",
      "x[Konya,Istanbul] 0.0\n",
      "x[Konya,Ankara] 24.000960038401537\n",
      "x[Import (Izmir),Istanbul] 0.0\n",
      "x[Import (Izmir),Ankara] 0.0\n",
      "y[Istanbul,Istanbul] 103.0\n",
      "y[Istanbul,Izmir] 39.0\n",
      "y[Istanbul,Antalya] 0.0\n",
      "y[Istanbul,Bursa] 60.0\n",
      "y[Istanbul,Kayseri] 0.0\n",
      "y[Istanbul,Export (Izmir)] 0.0\n",
      "y[Ankara,Istanbul] 0.0\n",
      "y[Ankara,Izmir] 35.0\n",
      "y[Ankara,Antalya] 50.0\n",
      "y[Ankara,Bursa] 0.0\n",
      "y[Ankara,Kayseri] 102.0\n",
      "y[Ankara,Export (Izmir)] 13.0\n"
     ]
    }
   ],
   "execution_count": 75
  },
  {
   "metadata": {
    "ExecuteTime": {
     "end_time": "2025-02-25T00:15:25.696638Z",
     "start_time": "2025-02-25T00:15:25.674732Z"
    }
   },
   "cell_type": "code",
   "source": [
    "for cons in m.getConstrs():\n",
    "    print(cons.ConstrName, m.getRow(cons).getValue(), cons.RHS)"
   ],
   "id": "ae63da6cb2c5cecb",
   "outputs": [
    {
     "name": "stdout",
     "output_type": "stream",
     "text": [
      "Demand[Istanbul] 103.0 103.0\n",
      "Demand[Izmir] 74.0 74.0\n",
      "Demand[Antalya] 50.0 50.0\n",
      "Demand[Bursa] 60.0 60.0\n",
      "Demand[Kayseri] 102.0 102.0\n",
      "Demand[Export (Izmir)] 13.0 13.0\n",
      "Malt Capacity[Afyon] 24.24096963878555 30.0\n",
      "Malt Capacity[Konya] 24.000960038401537 68.0\n",
      "Malt Capacity[Import (Izmir)] 0.0 20.0\n",
      "Brewery Capacity[Istanbul] 202.0 220.0\n",
      "Brewery Capacity[Ankara] 200.0 200.0\n",
      "Transshipment[Istanbul] 0.0 0.0\n",
      "Transshipment[Ankara] 0.0 0.0\n"
     ]
    }
   ],
   "execution_count": 67
  },
  {
   "metadata": {},
   "cell_type": "code",
   "outputs": [],
   "execution_count": null,
   "source": "",
   "id": "dcf807710dc6adbc"
  }
 ],
 "metadata": {
  "kernelspec": {
   "display_name": "Python 3",
   "language": "python",
   "name": "python3"
  },
  "language_info": {
   "codemirror_mode": {
    "name": "ipython",
    "version": 2
   },
   "file_extension": ".py",
   "mimetype": "text/x-python",
   "name": "python",
   "nbconvert_exporter": "python",
   "pygments_lexer": "ipython2",
   "version": "2.7.6"
  }
 },
 "nbformat": 4,
 "nbformat_minor": 5
}
