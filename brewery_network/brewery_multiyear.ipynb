{
 "cells": [
  {
   "cell_type": "code",
   "id": "initial_id",
   "metadata": {
    "collapsed": true,
    "ExecuteTime": {
     "end_time": "2025-02-25T01:49:07.118479Z",
     "start_time": "2025-02-25T01:49:06.573357Z"
    }
   },
   "source": [
    "import gurobipy as gp\n",
    "import pandas as pd\n",
    "from gurobipy import GRB"
   ],
   "outputs": [],
   "execution_count": 1
  },
  {
   "metadata": {
    "ExecuteTime": {
     "end_time": "2025-02-25T02:14:25.530097Z",
     "start_time": "2025-02-25T02:14:25.518100Z"
    }
   },
   "cell_type": "code",
   "source": [
    "plants = [\"Afyon\", \"Konya\", \"Import (Izmir)\"]\n",
    "br_exist = [\"Istanbul\", \"Ankara\"]\n",
    "br_pot = [\"Izmir\", \"Sakarya\", \"Adana\"]\n",
    "dc = [\"Istanbul\", \"Izmir\", \"Antalya\", \"Bursa\", \"Kayseri\", \"Export (Izmir)\"]  # Distribution Centers\n",
    "\n",
    "build_cost = {'Istanbul': 0, 'Ankara': 0, 'Izmir': 75, 'Sakarya': 70, 'Adana': 68}\n",
    "expand_cost = {'Istanbul': 0, 'Ankara': 0, 'Izmir': 30, 'Sakarya': 27, 'Adana': 25}\n",
    "\n",
    "plant_br_data = {\n",
    "    \"Malt Plants\": [\"Afyon\", \"Konya\", \"Import (Izmir)\"],\n",
    "    \"Istanbul\": [0.026, 0.037, 0.032],\n",
    "    \"Ankara\": [0.017, 0.017, 0.033],\n",
    "    \"Izmir\": [0.020, 0.031, 0.004],\n",
    "    \"Sakarya\": [0.019, 0.030, 0.028],\n",
    "    \"Adana\": [0.032, 0.022, 0.048]\n",
    "}\n",
    "\n",
    "ship_plant_br = pd.DataFrame(plant_br_data)\n",
    "ship_plant_br.set_index(\"Malt Plants\", inplace=True)\n",
    "\n",
    "# Data from the table\n",
    "br_dc_data = {\n",
    "    \"Breweries\": [\n",
    "        \"Istanbul\", \"Ankara\", \"Izmir\", \"Sakarya\", \"Adana\"\n",
    "    ],\n",
    "    \"Istanbul\": [0.000, 0.032, 0.040, 0.011, 0.067],\n",
    "    \"Izmir\": [0.040, 0.041, 0.000, 0.034, 0.064],\n",
    "    \"Antalya\": [0.052, 0.039, 0.032, 0.041, 0.040],\n",
    "    \"Bursa\": [0.017, 0.027, 0.023, 0.011, 0.060],\n",
    "    \"Kayseri\": [0.055, 0.023, 0.062, 0.045, 0.024],\n",
    "    \"Export (Izmir)\": [0.042, 0.043, 0.002, 0.036, 0.066]\n",
    "}\n",
    "\n",
    "# Create DataFrame\n",
    "ship_br_dc = pd.DataFrame(br_dc_data)\n",
    "ship_br_dc.set_index(\"Breweries\", inplace=True)\n",
    "\n",
    "# Data from the table\n",
    "demand_data = {\n",
    "    \"Dist. Centers\": [\n",
    "        \"Istanbul\", \"Izmir\", \"Antalya\", \"Bursa\", \"Kayseri\", \"Export (Izmir)\", \"Total\"\n",
    "    ],\n",
    "    1: [103, 74, 50, 60, 102, 13, 402],\n",
    "    2: [110, 80, 53, 75, 110, 13, 441],\n",
    "    3: [125, 90, 60, 85, 125, 15, 500]\n",
    "}\n",
    "\n",
    "# Create DataFrame\n",
    "demand = pd.DataFrame(demand_data)\n",
    "demand.set_index(\"Dist. Centers\", inplace=True)\n",
    "\n",
    "malt_cap = {\"Afyon\": 30, \"Konya\": 68, \"Import (Izmir)\": 20}\n",
    "\n",
    "V = {\"Afyon\": 8.333, \"Konya\": 8.333, \"Import (Izmir)\": 9.091}\n",
    "\n",
    "\n",
    "\n",
    "br_cap_exist ={\"Istanbul\": 220, \"Ankara\": 200}\n",
    "\n",
    "br_cap_new = 70\n",
    "br_cap_expand = 50\n",
    "\n",
    "\n",
    "periods = [1, 2, 3]"
   ],
   "id": "8d62ac2a8675d418",
   "outputs": [],
   "execution_count": 18
  },
  {
   "metadata": {
    "ExecuteTime": {
     "end_time": "2025-02-25T02:06:04.746476Z",
     "start_time": "2025-02-25T02:06:04.742464Z"
    }
   },
   "cell_type": "code",
   "source": "",
   "id": "865e5d97572068b9",
   "outputs": [
    {
     "data": {
      "text/plain": [
       "['Istanbul', 'Ankara', 'Izmir', 'Sakarya', 'Adana']"
      ]
     },
     "execution_count": 12,
     "metadata": {},
     "output_type": "execute_result"
    }
   ],
   "execution_count": 12
  },
  {
   "metadata": {
    "ExecuteTime": {
     "end_time": "2025-02-25T02:07:16.993675Z",
     "start_time": "2025-02-25T02:07:16.988176Z"
    }
   },
   "cell_type": "code",
   "source": [
    "# VARIABLES\n",
    "\n",
    "m = gp.Model(\"Single Period Distribution\")\n",
    "\n",
    "x = m.addVars(plants, br_exist + br_pot, periods, lb=0.0, name='x')  # plant i --> brewery k\n",
    "y = m.addVars(br_exist + br_pot, dc, periods, lb=0.0, name='y') # brewery j --> dc k\n",
    "\n",
    "b = m.addVars(br_exist + br_pot, periods, vtype=GRB.BINARY, name='b') # brewery at site l\n",
    "e = m.addVars(br_exist + br_pot, periods, vtype=GRB.BINARY, name='e') # expansion at site l\n",
    "\n",
    "\n",
    "m.update()"
   ],
   "id": "35478609af35b8dc",
   "outputs": [],
   "execution_count": 13
  },
  {
   "metadata": {},
   "cell_type": "code",
   "outputs": [],
   "execution_count": null,
   "source": [
    "# CONSTRAINTS\n",
    "\n",
    "m.addConstrs((b[i, t] == 1 for i in br_exist for t in periods), name='Existing Breweries')\n",
    "m.addConstrs((e[i, t] == 0 for i in br_exist for t in periods), name='No Expansion at Existing Breweries')\n",
    "\n",
    "build_continuity = m.addConstrs((b[l, t-1] <= b[l, t] for l in br_pot for t in periods[1:]), name='Build Continuity')\n",
    "expansion_continuity = m.addConstrs((e[l, t-1] <= e[l, t] for l in br_pot for t in periods[1:]), name='Expansion Continuity')\n",
    "build_expand = m.addConstrs((e[l, t] <= b[l, t] for l in br_pot for t in periods), name='Build-Expand')\n",
    "\n",
    "build_constraint = m.addConstrs((x[i, j, t] <= malt_cap[i] * b[j, t] for i in plants for j in br_exist + br_pot for t in periods), name='No shipping to breweries not build')\n",
    "\n",
    "\n",
    "dc_demand = m.addConstrs((gp.quicksum(y[j, k, t] for j in br_exist + br_pot) >= demand.loc[k, t] for k in dc for t in periods), name='Demand')\n",
    "\n",
    "malt_capacity = m.addConstrs((gp.quicksum(x[i, j, t] for j in br_exist) <= malt_cap[i] for i in plants for t in periods), name='Malt Capacity')\n",
    "\n",
    "brew_capacity_ex = m.addConstrs((gp.quicksum(x[i, j, t] * V[i] for i in plants) <= br_cap_exist[j] for j in br_exist for t in periods), name='Existing Brewery Capacity')\n",
    "\n",
    "brew_capacity_pot = m.addConstrs((gp.quicksum(x[i, j, t] * V[i] for i in plants) <= br_cap_new * b[j, t] + br_cap_expand * e[j, t] for j in br_pot for t in periods), name='Brewery Capacity at New Sites')\n",
    "\n",
    "\n",
    "transshipment = m.addConstrs((gp.quicksum(x[i, j, t] * V[i] for i in plants) >= gp.quicksum(y[j, k, t] for k in dc) for j in br_exist for t in periods), name='Transshipment')\n",
    "\n",
    "m.update()"
   ],
   "id": "8839fe4c8b41e94b"
  },
  {
   "metadata": {},
   "cell_type": "code",
   "outputs": [],
   "execution_count": null,
   "source": "",
   "id": "612619e21886794f"
  }
 ],
 "metadata": {
  "kernelspec": {
   "display_name": "Python 3",
   "language": "python",
   "name": "python3"
  },
  "language_info": {
   "codemirror_mode": {
    "name": "ipython",
    "version": 2
   },
   "file_extension": ".py",
   "mimetype": "text/x-python",
   "name": "python",
   "nbconvert_exporter": "python",
   "pygments_lexer": "ipython2",
   "version": "2.7.6"
  }
 },
 "nbformat": 4,
 "nbformat_minor": 5
}
