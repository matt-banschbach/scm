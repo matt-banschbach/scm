{
 "cells": [
  {
   "metadata": {
    "ExecuteTime": {
     "end_time": "2025-02-06T17:10:04.027915Z",
     "start_time": "2025-02-06T17:10:02.962356Z"
    }
   },
   "cell_type": "code",
   "source": [
    "import gurobipy as gp\n",
    "from gurobipy import GRB\n",
    "import pandas as pd"
   ],
   "id": "12b8fcb164ef0ae2",
   "outputs": [],
   "execution_count": 1
  },
  {
   "metadata": {
    "ExecuteTime": {
     "end_time": "2025-02-06T17:38:12.524947Z",
     "start_time": "2025-02-06T17:38:12.507914Z"
    }
   },
   "cell_type": "code",
   "source": [
    "supplier = ['AUS', 'CHN', 'KAZ']\n",
    "plant = ['CHT', 'ATX']\n",
    "DC = ['HTX', 'NYC', 'LA']\n",
    "mkt = ['APAC', 'EU', 'NA', 'SA', 'ME']\n",
    "\n",
    "demand_mkt = {\n",
    "    'APAC': 15000,\n",
    "    'EU': 10000,\n",
    "    'NA': 8000,\n",
    "    'ME': 4000,\n",
    "    'SA': 3000\n",
    "}\n",
    "\n",
    "data = {\n",
    "    '': ['ATX', 'CHT', 'APAC', 'EU', 'NA', 'ME', 'SA'],\n",
    "    'HTX': [20, 90, 220, 195, 70, 240, 90],\n",
    "    'NYC': [100, 30, 250, 180, 75, 230, 115],\n",
    "    'LA': [70, 120, 200, 210, 80, 235, 95]\n",
    "}\n",
    "\n",
    "# Create the DataFrame\n",
    "dc_mkt_cost = pd.DataFrame(data)\n",
    "dc_mkt_cost.set_index('', inplace=True)\n",
    "dc_mkt_cost.index.name = None  # Remove the name of the index\n",
    "\n",
    "\n",
    "data_2 = {\n",
    "    '': ['ATX', 'CHT'],\n",
    "    'CHN': [150, 160],\n",
    "    'AUS': [175, 170],\n",
    "    'KAZ': [165, 180]\n",
    "    }\n",
    "supplier_plant_cost = pd.DataFrame(data_2)\n",
    "supplier_plant_cost.set_index('', inplace=True)\n",
    "supplier_plant_cost.index.name = None"
   ],
   "id": "f460cb0ffcc18bf2",
   "outputs": [],
   "execution_count": 24
  },
  {
   "metadata": {
    "ExecuteTime": {
     "end_time": "2025-02-06T17:38:14.452548Z",
     "start_time": "2025-02-06T17:38:14.444453Z"
    }
   },
   "cell_type": "code",
   "source": [
    "construction_cost = {\n",
    "    'HTX': 1500000,\n",
    "    'NYC': 2000000,\n",
    "    'LA': 1800000\n",
    "}"
   ],
   "id": "c5b02ca12d1bb35a",
   "outputs": [],
   "execution_count": 25
  },
  {
   "metadata": {
    "ExecuteTime": {
     "end_time": "2025-02-06T17:38:15.610502Z",
     "start_time": "2025-02-06T17:38:15.601974Z"
    }
   },
   "cell_type": "code",
   "source": [
    "m = gp.Model()\n",
    "\n",
    "y = m.addVars(DC, vtype=GRB.BINARY, name=\"DC Location\")\n",
    "\n",
    "a = m.addVars(supplier, plant, lb=0, name=\"Supplier to Plant\")\n",
    "b = m.addVars(plant, DC, lb=0, name=\"Plant to DC\")\n",
    "c = m.addVars(DC, mkt, lb=0, name=\"Plant to MKT\")\n",
    "m.update()"
   ],
   "id": "1014c05d2fbbf05b",
   "outputs": [],
   "execution_count": 26
  },
  {
   "metadata": {
    "ExecuteTime": {
     "end_time": "2025-02-06T17:38:15.996256Z",
     "start_time": "2025-02-06T17:38:15.982314Z"
    }
   },
   "cell_type": "code",
   "source": [
    "plant_cap = m.addConstrs((gp.quicksum(a[i, j] for i in supplier) <= 30000 for j in plant), name=\"Plant Capacity\")\n",
    "dc_cap = m.addConstrs((gp.quicksum(b[j, k] for j in plant) <= 40000 for k in DC), name=\"DC Capacity\")\n",
    "demand_cons = m.addConstrs((gp.quicksum(c[k, l] for k in DC) >= demand_mkt[l] for l in mkt), name=\"Demand in MKT\")\n",
    "\n",
    "plant_transshipment = m.addConstrs((gp.quicksum(a[i, j] for i in supplier) >= gp.quicksum(b[j, k] for k in DC) for j in plant), name=\"Plant Transshipment\")\n",
    "dc_transshipment = m.addConstrs((gp.quicksum(b[j, k] for j in plant) >= gp.quicksum(c[k, l] for l in mkt) for k in DC), name=\"DC Transshipment\")\n",
    "\n",
    "m.update()"
   ],
   "id": "58cad3691775342c",
   "outputs": [],
   "execution_count": 27
  },
  {
   "metadata": {
    "ExecuteTime": {
     "end_time": "2025-02-06T17:37:45.232258Z",
     "start_time": "2025-02-06T17:37:45.215304Z"
    }
   },
   "cell_type": "code",
   "source": "dc_mkt_cost.loc['']",
   "id": "30c8c4856d3e89b",
   "outputs": [
    {
     "data": {
      "text/plain": [
       "      HTX  NYC   LA\n",
       "ATX    20  100   70\n",
       "CHT    90   30  120\n",
       "APAC  220  250  200\n",
       "EU    195  180  210\n",
       "NA     70   75   80\n",
       "ME    240  230  235\n",
       "SA     90  115   95"
      ],
      "text/html": [
       "<div>\n",
       "<style scoped>\n",
       "    .dataframe tbody tr th:only-of-type {\n",
       "        vertical-align: middle;\n",
       "    }\n",
       "\n",
       "    .dataframe tbody tr th {\n",
       "        vertical-align: top;\n",
       "    }\n",
       "\n",
       "    .dataframe thead th {\n",
       "        text-align: right;\n",
       "    }\n",
       "</style>\n",
       "<table border=\"1\" class=\"dataframe\">\n",
       "  <thead>\n",
       "    <tr style=\"text-align: right;\">\n",
       "      <th></th>\n",
       "      <th>HTX</th>\n",
       "      <th>NYC</th>\n",
       "      <th>LA</th>\n",
       "    </tr>\n",
       "  </thead>\n",
       "  <tbody>\n",
       "    <tr>\n",
       "      <th>ATX</th>\n",
       "      <td>20</td>\n",
       "      <td>100</td>\n",
       "      <td>70</td>\n",
       "    </tr>\n",
       "    <tr>\n",
       "      <th>CHT</th>\n",
       "      <td>90</td>\n",
       "      <td>30</td>\n",
       "      <td>120</td>\n",
       "    </tr>\n",
       "    <tr>\n",
       "      <th>APAC</th>\n",
       "      <td>220</td>\n",
       "      <td>250</td>\n",
       "      <td>200</td>\n",
       "    </tr>\n",
       "    <tr>\n",
       "      <th>EU</th>\n",
       "      <td>195</td>\n",
       "      <td>180</td>\n",
       "      <td>210</td>\n",
       "    </tr>\n",
       "    <tr>\n",
       "      <th>NA</th>\n",
       "      <td>70</td>\n",
       "      <td>75</td>\n",
       "      <td>80</td>\n",
       "    </tr>\n",
       "    <tr>\n",
       "      <th>ME</th>\n",
       "      <td>240</td>\n",
       "      <td>230</td>\n",
       "      <td>235</td>\n",
       "    </tr>\n",
       "    <tr>\n",
       "      <th>SA</th>\n",
       "      <td>90</td>\n",
       "      <td>115</td>\n",
       "      <td>95</td>\n",
       "    </tr>\n",
       "  </tbody>\n",
       "</table>\n",
       "</div>"
      ]
     },
     "execution_count": 23,
     "metadata": {},
     "output_type": "execute_result"
    }
   ],
   "execution_count": 23
  },
  {
   "metadata": {
    "ExecuteTime": {
     "end_time": "2025-02-06T17:38:18.379712Z",
     "start_time": "2025-02-06T17:38:18.364956Z"
    }
   },
   "cell_type": "code",
   "source": [
    "m.setObjective(gp.quicksum(supplier_plant_cost.loc[j, i] * a[i, j] for i in supplier for j in plant) + gp.quicksum(dc_mkt_cost.loc[l, k] * c[k, l] for k in DC for l in mkt) + gp.quicksum(construction_cost[k] * y[k] for k in DC), GRB.MINIMIZE)\n",
    "m.update()"
   ],
   "id": "5338f20a24e947be",
   "outputs": [],
   "execution_count": 28
  },
  {
   "metadata": {
    "ExecuteTime": {
     "end_time": "2025-02-06T17:38:59.797436Z",
     "start_time": "2025-02-06T17:38:59.739245Z"
    }
   },
   "cell_type": "code",
   "source": "m.optimize()",
   "id": "3077625b06dae775",
   "outputs": [
    {
     "name": "stdout",
     "output_type": "stream",
     "text": [
      "Gurobi Optimizer version 12.0.1 build v12.0.1rc0 (win64 - Windows 11.0 (26100.2))\n",
      "\n",
      "CPU model: AMD Ryzen 7 5800HS with Radeon Graphics, instruction set [SSE2|AVX|AVX2]\n",
      "Thread count: 8 physical cores, 16 logical processors, using up to 16 threads\n",
      "\n",
      "Optimize a model with 15 rows, 30 columns and 60 nonzeros\n",
      "Model fingerprint: 0x9b35756a\n",
      "Variable types: 27 continuous, 3 integer (3 binary)\n",
      "Coefficient statistics:\n",
      "  Matrix range     [1e+00, 1e+00]\n",
      "  Objective range  [7e+01, 2e+06]\n",
      "  Bounds range     [1e+00, 1e+00]\n",
      "  RHS range        [3e+03, 4e+04]\n",
      "Presolve removed 5 rows and 9 columns\n",
      "Presolve time: 0.01s\n",
      "Presolved: 10 rows, 21 columns, 42 nonzeros\n",
      "Variable types: 21 continuous, 0 integer (0 binary)\n",
      "\n",
      "Root relaxation: objective 1.265000e+07, 14 iterations, 0.00 seconds (0.00 work units)\n",
      "\n",
      "    Nodes    |    Current Node    |     Objective Bounds      |     Work\n",
      " Expl Unexpl |  Obj  Depth IntInf | Incumbent    BestBd   Gap | It/Node Time\n",
      "\n",
      "*    0     0               0    1.265000e+07 1.2650e+07  0.00%     -    0s\n",
      "\n",
      "Explored 1 nodes (14 simplex iterations) in 0.03 seconds (0.00 work units)\n",
      "Thread count was 16 (of 16 available processors)\n",
      "\n",
      "Solution count 1: 1.265e+07 \n",
      "\n",
      "Optimal solution found (tolerance 1.00e-04)\n",
      "Best objective 1.265000000000e+07, best bound 1.265000000000e+07, gap 0.0000%\n"
     ]
    }
   ],
   "execution_count": 29
  },
  {
   "metadata": {
    "ExecuteTime": {
     "end_time": "2025-02-06T17:39:25.704515Z",
     "start_time": "2025-02-06T17:39:25.694560Z"
    }
   },
   "cell_type": "code",
   "source": [
    "for v in m.getVars():\n",
    "    if v.X > 0:\n",
    "        print(v.VarName, v.X)"
   ],
   "id": "346b769729429d72",
   "outputs": [
    {
     "name": "stdout",
     "output_type": "stream",
     "text": [
      "Supplier to Plant[CHN,CHT] 10000.0\n",
      "Supplier to Plant[CHN,ATX] 30000.0\n",
      "Plant to DC[CHT,HTX] 10000.0\n",
      "Plant to DC[ATX,HTX] 1000.0\n",
      "Plant to DC[ATX,NYC] 14000.0\n",
      "Plant to DC[ATX,LA] 15000.0\n",
      "Plant to MKT[HTX,NA] 8000.0\n",
      "Plant to MKT[HTX,SA] 3000.0\n",
      "Plant to MKT[NYC,EU] 10000.0\n",
      "Plant to MKT[NYC,ME] 4000.0\n",
      "Plant to MKT[LA,APAC] 15000.0\n"
     ]
    }
   ],
   "execution_count": 30
  }
 ],
 "metadata": {
  "kernelspec": {
   "display_name": "Python 3",
   "language": "python",
   "name": "python3"
  },
  "language_info": {
   "codemirror_mode": {
    "name": "ipython",
    "version": 2
   },
   "file_extension": ".py",
   "mimetype": "text/x-python",
   "name": "python",
   "nbconvert_exporter": "python",
   "pygments_lexer": "ipython2",
   "version": "2.7.6"
  }
 },
 "nbformat": 4,
 "nbformat_minor": 5
}
