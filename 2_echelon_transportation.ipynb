{
 "cells": [
  {
   "metadata": {
    "ExecuteTime": {
     "end_time": "2025-02-06T21:02:31.883774Z",
     "start_time": "2025-02-06T21:02:30.511181Z"
    }
   },
   "cell_type": "code",
   "source": [
    "import pandas as pd\n",
    "import numpy as np\n",
    "import gurobipy as gp\n",
    "from gurobipy import GRB"
   ],
   "id": "f977d687777f1cd2",
   "outputs": [],
   "execution_count": 1
  },
  {
   "metadata": {
    "ExecuteTime": {
     "end_time": "2025-02-06T21:02:33.614299Z",
     "start_time": "2025-02-06T21:02:33.581565Z"
    }
   },
   "cell_type": "code",
   "source": [
    "# Data for the table\n",
    "data = {\n",
    "    'Plant': ['Plant A', 'Plant B', 'Plant C', 'Plant D', 'Plant E'],\n",
    "    'DC1': [180, 110, 145, 180, 135],\n",
    "    'DC2': [215, 175, 165, 220, 165],\n",
    "    'DC3': [65, 95, 150, 175, 160],\n",
    "    'DC4': [55, 145, 95, 365, 65],\n",
    "    'DC5': [105, 165, 150, 190, 130],\n",
    "    'DC6': [110, 120, 180, 185, 150],\n",
    "    'DC7': [100, 80, 195, 155, 10000],\n",
    "    'DC8': [125, 160, 120, 265, 10000],\n",
    "    'DC9': [155, 205, 135, 290, 10000]\n",
    "}\n",
    "\n",
    "# Create a DataFrame\n",
    "costs = pd.DataFrame(data)\n",
    "costs.set_index('Plant', inplace=True)\n"
   ],
   "id": "4d57e24c9b20f673",
   "outputs": [],
   "execution_count": 2
  },
  {
   "metadata": {
    "ExecuteTime": {
     "end_time": "2025-02-06T21:02:39.613005Z",
     "start_time": "2025-02-06T21:02:39.606160Z"
    }
   },
   "cell_type": "code",
   "source": [
    "# Capacities at plants\n",
    "capacities = {\n",
    "    'Plant A': 1500,\n",
    "    'Plant B': 800,\n",
    "    'Plant C': 1190,\n",
    "    'Plant D': 2900,\n",
    "    'Plant E': 1250\n",
    "}\n",
    "\n",
    "# Requirements at DCs\n",
    "requirements = {\n",
    "    'DC1': 520,\n",
    "    'DC2': 800,\n",
    "    'DC3': 300,\n",
    "    'DC4': 1450,\n",
    "    'DC5': 375,\n",
    "    'DC6': 100,\n",
    "    'DC7': 935,\n",
    "    'DC8': 750,\n",
    "    'DC9': 620\n",
    "}\n",
    "\n",
    "\n",
    "no_plant_e = ['DC7', 'DC8', 'DC9']"
   ],
   "id": "19211d9769cbfa28",
   "outputs": [],
   "execution_count": 3
  },
  {
   "metadata": {
    "ExecuteTime": {
     "end_time": "2025-02-06T21:02:40.906147Z",
     "start_time": "2025-02-06T21:02:40.856270Z"
    }
   },
   "cell_type": "code",
   "source": [
    "m = gp.Model()\n",
    "x = m.addVars(capacities.keys(), requirements.keys(), lb=0, name=\"Proportion\")\n",
    "m.update()"
   ],
   "id": "f54c5c26f4f43c0",
   "outputs": [
    {
     "name": "stdout",
     "output_type": "stream",
     "text": [
      "Set parameter Username\n",
      "Academic license - for non-commercial use only - expires 2026-01-17\n"
     ]
    }
   ],
   "execution_count": 4
  },
  {
   "metadata": {
    "ExecuteTime": {
     "end_time": "2025-02-06T21:02:42.152351Z",
     "start_time": "2025-02-06T21:02:42.137847Z"
    }
   },
   "cell_type": "code",
   "source": [
    "demand = m.addConstrs((gp.quicksum(x[i, j] for i in capacities.keys()) >= requirements[j] for j in requirements.keys()), name=\"Demand\")\n",
    "capacity = m.addConstrs((gp.quicksum(x[i, j] for j in requirements.keys()) <= capacities[i] for i in capacities.keys()), name=\"Capacity\")\n",
    "no_shipment = m.addConstrs((x['Plant E', dc] == 0 for dc in no_plant_e), name=\"No Shipment Plant E to DC 7, 8, 9\")\n",
    "m.update()"
   ],
   "id": "fc45f08d8c7ad295",
   "outputs": [],
   "execution_count": 5
  },
  {
   "metadata": {
    "ExecuteTime": {
     "end_time": "2025-02-06T21:02:43.912073Z",
     "start_time": "2025-02-06T21:02:43.896930Z"
    }
   },
   "cell_type": "code",
   "source": [
    "m.setObjective(gp.quicksum(costs.loc[i, j] * x[i, j] for i in capacities.keys() for j in requirements.keys()), GRB.MINIMIZE)\n",
    "m.update()"
   ],
   "id": "96f0eb33ab8a5af3",
   "outputs": [],
   "execution_count": 6
  },
  {
   "metadata": {
    "ExecuteTime": {
     "end_time": "2025-02-06T21:02:45.633478Z",
     "start_time": "2025-02-06T21:02:45.561343Z"
    }
   },
   "cell_type": "code",
   "source": "m.optimize()",
   "id": "395df002fdf7a842",
   "outputs": [
    {
     "name": "stdout",
     "output_type": "stream",
     "text": [
      "Gurobi Optimizer version 12.0.1 build v12.0.1rc0 (win64 - Windows 11.0 (26100.2))\n",
      "\n",
      "CPU model: AMD Ryzen 7 5800HS with Radeon Graphics, instruction set [SSE2|AVX|AVX2]\n",
      "Thread count: 8 physical cores, 16 logical processors, using up to 16 threads\n",
      "\n",
      "Optimize a model with 17 rows, 45 columns and 93 nonzeros\n",
      "Model fingerprint: 0x18c60654\n",
      "Coefficient statistics:\n",
      "  Matrix range     [1e+00, 1e+00]\n",
      "  Objective range  [6e+01, 1e+04]\n",
      "  Bounds range     [0e+00, 0e+00]\n",
      "  RHS range        [1e+02, 3e+03]\n",
      "Presolve removed 3 rows and 3 columns\n",
      "Presolve time: 0.02s\n",
      "Presolved: 14 rows, 42 columns, 84 nonzeros\n",
      "\n",
      "Iteration    Objective       Primal Inf.    Dual Inf.      Time\n",
      "       0    0.0000000e+00   7.312500e+02   0.000000e+00      0s\n",
      "      18    6.6882500e+05   0.000000e+00   0.000000e+00      0s\n",
      "\n",
      "Solved in 18 iterations and 0.04 seconds (0.00 work units)\n",
      "Optimal objective  6.688250000e+05\n"
     ]
    }
   ],
   "execution_count": 7
  },
  {
   "metadata": {
    "ExecuteTime": {
     "end_time": "2025-02-06T21:02:50.694008Z",
     "start_time": "2025-02-06T21:02:50.685059Z"
    }
   },
   "cell_type": "code",
   "source": [
    "for v in m.getVars():\n",
    "    if v.X > 0:\n",
    "        print(v.VarName, v.X)\n",
    "\n",
    "\n",
    "print(\"Objective Value (Total Cost): \")\n",
    "print(m.ObjVal)"
   ],
   "id": "e359aa67920d47f5",
   "outputs": [
    {
     "name": "stdout",
     "output_type": "stream",
     "text": [
      "Proportion[Plant A,DC3] 300.0\n",
      "Proportion[Plant A,DC4] 545.0\n",
      "Proportion[Plant A,DC5] 375.0\n",
      "Proportion[Plant A,DC6] 100.0\n",
      "Proportion[Plant A,DC8] 180.0\n",
      "Proportion[Plant B,DC7] 800.0\n",
      "Proportion[Plant C,DC8] 570.0\n",
      "Proportion[Plant C,DC9] 620.0\n",
      "Proportion[Plant D,DC1] 520.0\n",
      "Proportion[Plant D,DC2] 455.0\n",
      "Proportion[Plant D,DC7] 135.0\n",
      "Proportion[Plant E,DC2] 345.0\n",
      "Proportion[Plant E,DC4] 905.0\n",
      "Objective Value (Total Cost): \n",
      "668825.0\n"
     ]
    }
   ],
   "execution_count": 8
  },
  {
   "metadata": {
    "ExecuteTime": {
     "end_time": "2025-02-06T21:10:28.545625Z",
     "start_time": "2025-02-06T21:10:28.493099Z"
    }
   },
   "cell_type": "code",
   "source": [
    "results = pd.DataFrame(index=capacities.keys(), columns=requirements.keys())\n",
    "\n",
    "# Populate the DataFrame with variable values\n",
    "for i in capacities.keys():\n",
    "    for j in requirements.keys():\n",
    "        results.loc[i, j] = x[i, j].X\n",
    "\n",
    "results"
   ],
   "id": "75de8a67d9f68cf5",
   "outputs": [
    {
     "data": {
      "text/plain": [
       "           DC1    DC2    DC3    DC4    DC5    DC6    DC7    DC8    DC9\n",
       "Plant A    0.0    0.0  300.0  545.0  375.0  100.0    0.0  180.0    0.0\n",
       "Plant B    0.0    0.0    0.0    0.0    0.0    0.0  800.0    0.0    0.0\n",
       "Plant C    0.0    0.0    0.0    0.0    0.0    0.0    0.0  570.0  620.0\n",
       "Plant D  520.0  455.0    0.0    0.0    0.0    0.0  135.0    0.0    0.0\n",
       "Plant E    0.0  345.0    0.0  905.0    0.0    0.0    0.0    0.0    0.0"
      ],
      "text/html": [
       "<div>\n",
       "<style scoped>\n",
       "    .dataframe tbody tr th:only-of-type {\n",
       "        vertical-align: middle;\n",
       "    }\n",
       "\n",
       "    .dataframe tbody tr th {\n",
       "        vertical-align: top;\n",
       "    }\n",
       "\n",
       "    .dataframe thead th {\n",
       "        text-align: right;\n",
       "    }\n",
       "</style>\n",
       "<table border=\"1\" class=\"dataframe\">\n",
       "  <thead>\n",
       "    <tr style=\"text-align: right;\">\n",
       "      <th></th>\n",
       "      <th>DC1</th>\n",
       "      <th>DC2</th>\n",
       "      <th>DC3</th>\n",
       "      <th>DC4</th>\n",
       "      <th>DC5</th>\n",
       "      <th>DC6</th>\n",
       "      <th>DC7</th>\n",
       "      <th>DC8</th>\n",
       "      <th>DC9</th>\n",
       "    </tr>\n",
       "  </thead>\n",
       "  <tbody>\n",
       "    <tr>\n",
       "      <th>Plant A</th>\n",
       "      <td>0.0</td>\n",
       "      <td>0.0</td>\n",
       "      <td>300.0</td>\n",
       "      <td>545.0</td>\n",
       "      <td>375.0</td>\n",
       "      <td>100.0</td>\n",
       "      <td>0.0</td>\n",
       "      <td>180.0</td>\n",
       "      <td>0.0</td>\n",
       "    </tr>\n",
       "    <tr>\n",
       "      <th>Plant B</th>\n",
       "      <td>0.0</td>\n",
       "      <td>0.0</td>\n",
       "      <td>0.0</td>\n",
       "      <td>0.0</td>\n",
       "      <td>0.0</td>\n",
       "      <td>0.0</td>\n",
       "      <td>800.0</td>\n",
       "      <td>0.0</td>\n",
       "      <td>0.0</td>\n",
       "    </tr>\n",
       "    <tr>\n",
       "      <th>Plant C</th>\n",
       "      <td>0.0</td>\n",
       "      <td>0.0</td>\n",
       "      <td>0.0</td>\n",
       "      <td>0.0</td>\n",
       "      <td>0.0</td>\n",
       "      <td>0.0</td>\n",
       "      <td>0.0</td>\n",
       "      <td>570.0</td>\n",
       "      <td>620.0</td>\n",
       "    </tr>\n",
       "    <tr>\n",
       "      <th>Plant D</th>\n",
       "      <td>520.0</td>\n",
       "      <td>455.0</td>\n",
       "      <td>0.0</td>\n",
       "      <td>0.0</td>\n",
       "      <td>0.0</td>\n",
       "      <td>0.0</td>\n",
       "      <td>135.0</td>\n",
       "      <td>0.0</td>\n",
       "      <td>0.0</td>\n",
       "    </tr>\n",
       "    <tr>\n",
       "      <th>Plant E</th>\n",
       "      <td>0.0</td>\n",
       "      <td>345.0</td>\n",
       "      <td>0.0</td>\n",
       "      <td>905.0</td>\n",
       "      <td>0.0</td>\n",
       "      <td>0.0</td>\n",
       "      <td>0.0</td>\n",
       "      <td>0.0</td>\n",
       "      <td>0.0</td>\n",
       "    </tr>\n",
       "  </tbody>\n",
       "</table>\n",
       "</div>"
      ]
     },
     "execution_count": 11,
     "metadata": {},
     "output_type": "execute_result"
    }
   ],
   "execution_count": 11
  },
  {
   "metadata": {
    "ExecuteTime": {
     "end_time": "2025-02-06T21:22:25.951947Z",
     "start_time": "2025-02-06T21:22:25.938212Z"
    }
   },
   "cell_type": "code",
   "source": [
    "pi_data = {constr.ConstrName: constr.Pi for constr in m.getConstrs()}\n",
    "pi = pd.Series(pi_data)\n",
    "pi"
   ],
   "id": "2962c2a4c8e93cb9",
   "outputs": [
    {
     "data": {
      "text/plain": [
       "Demand[DC1]                               180.0\n",
       "Demand[DC2]                               220.0\n",
       "Demand[DC3]                               130.0\n",
       "Demand[DC4]                               120.0\n",
       "Demand[DC5]                               170.0\n",
       "Demand[DC6]                               175.0\n",
       "Demand[DC7]                               155.0\n",
       "Demand[DC8]                               190.0\n",
       "Demand[DC9]                               205.0\n",
       "Capacity[Plant A]                         -65.0\n",
       "Capacity[Plant B]                         -75.0\n",
       "Capacity[Plant C]                         -70.0\n",
       "Capacity[Plant D]                           0.0\n",
       "Capacity[Plant E]                         -55.0\n",
       "No Shipment Plant E to DC 7, 8, 9[DC7]      0.0\n",
       "No Shipment Plant E to DC 7, 8, 9[DC8]      0.0\n",
       "No Shipment Plant E to DC 7, 8, 9[DC9]      0.0\n",
       "dtype: float64"
      ]
     },
     "execution_count": 14,
     "metadata": {},
     "output_type": "execute_result"
    }
   ],
   "execution_count": 14
  },
  {
   "metadata": {
    "ExecuteTime": {
     "end_time": "2025-02-06T22:50:44.438376Z",
     "start_time": "2025-02-06T22:50:44.423970Z"
    }
   },
   "cell_type": "code",
   "source": [
    "for v in m.getVars():\n",
    "    print(v.VarName, v.RC)"
   ],
   "id": "343cfe7a413b981c",
   "outputs": [
    {
     "name": "stdout",
     "output_type": "stream",
     "text": [
      "Proportion[Plant A,DC1] 65.0\n",
      "Proportion[Plant A,DC2] 60.0\n",
      "Proportion[Plant A,DC3] 0.0\n",
      "Proportion[Plant A,DC4] 0.0\n",
      "Proportion[Plant A,DC5] 0.0\n",
      "Proportion[Plant A,DC6] 0.0\n",
      "Proportion[Plant A,DC7] 10.0\n",
      "Proportion[Plant A,DC8] 0.0\n",
      "Proportion[Plant A,DC9] 15.0\n",
      "Proportion[Plant B,DC1] 5.0\n",
      "Proportion[Plant B,DC2] 30.0\n",
      "Proportion[Plant B,DC3] 40.0\n",
      "Proportion[Plant B,DC4] 100.0\n",
      "Proportion[Plant B,DC5] 70.0\n",
      "Proportion[Plant B,DC6] 20.0\n",
      "Proportion[Plant B,DC7] 0.0\n",
      "Proportion[Plant B,DC8] 45.0\n",
      "Proportion[Plant B,DC9] 75.0\n",
      "Proportion[Plant C,DC1] 35.0\n",
      "Proportion[Plant C,DC2] 15.0\n",
      "Proportion[Plant C,DC3] 90.0\n",
      "Proportion[Plant C,DC4] 45.0\n",
      "Proportion[Plant C,DC5] 50.0\n",
      "Proportion[Plant C,DC6] 75.0\n",
      "Proportion[Plant C,DC7] 110.0\n",
      "Proportion[Plant C,DC8] 0.0\n",
      "Proportion[Plant C,DC9] 0.0\n",
      "Proportion[Plant D,DC1] 0.0\n",
      "Proportion[Plant D,DC2] 0.0\n",
      "Proportion[Plant D,DC3] 45.0\n",
      "Proportion[Plant D,DC4] 245.0\n",
      "Proportion[Plant D,DC5] 20.0\n",
      "Proportion[Plant D,DC6] 10.0\n",
      "Proportion[Plant D,DC7] 0.0\n",
      "Proportion[Plant D,DC8] 75.0\n",
      "Proportion[Plant D,DC9] 85.0\n",
      "Proportion[Plant E,DC1] 10.0\n",
      "Proportion[Plant E,DC2] 0.0\n",
      "Proportion[Plant E,DC3] 85.0\n",
      "Proportion[Plant E,DC4] 0.0\n",
      "Proportion[Plant E,DC5] 15.0\n",
      "Proportion[Plant E,DC6] 30.0\n",
      "Proportion[Plant E,DC7] 9900.0\n",
      "Proportion[Plant E,DC8] 9865.0\n",
      "Proportion[Plant E,DC9] 9850.0\n",
      "Proportion[Plant A,DC1] 65.0\n",
      "Proportion[Plant A,DC2] 60.0\n",
      "Proportion[Plant A,DC3] 0.0\n",
      "Proportion[Plant A,DC4] 0.0\n",
      "Proportion[Plant A,DC5] 0.0\n",
      "Proportion[Plant A,DC6] 0.0\n",
      "Proportion[Plant A,DC7] 10.0\n",
      "Proportion[Plant A,DC8] 0.0\n",
      "Proportion[Plant A,DC9] 15.0\n",
      "Proportion[Plant B,DC1] 5.0\n",
      "Proportion[Plant B,DC2] 30.0\n",
      "Proportion[Plant B,DC3] 40.0\n",
      "Proportion[Plant B,DC4] 100.0\n",
      "Proportion[Plant B,DC5] 70.0\n",
      "Proportion[Plant B,DC6] 20.0\n",
      "Proportion[Plant B,DC7] 0.0\n",
      "Proportion[Plant B,DC8] 45.0\n",
      "Proportion[Plant B,DC9] 75.0\n",
      "Proportion[Plant C,DC1] 35.0\n",
      "Proportion[Plant C,DC2] 15.0\n",
      "Proportion[Plant C,DC3] 90.0\n",
      "Proportion[Plant C,DC4] 45.0\n",
      "Proportion[Plant C,DC5] 50.0\n",
      "Proportion[Plant C,DC6] 75.0\n",
      "Proportion[Plant C,DC7] 110.0\n",
      "Proportion[Plant C,DC8] 0.0\n",
      "Proportion[Plant C,DC9] 0.0\n",
      "Proportion[Plant D,DC1] 0.0\n",
      "Proportion[Plant D,DC2] 0.0\n",
      "Proportion[Plant D,DC3] 45.0\n",
      "Proportion[Plant D,DC4] 245.0\n",
      "Proportion[Plant D,DC5] 20.0\n",
      "Proportion[Plant D,DC6] 10.0\n",
      "Proportion[Plant D,DC7] 0.0\n",
      "Proportion[Plant D,DC8] 75.0\n",
      "Proportion[Plant D,DC9] 85.0\n",
      "Proportion[Plant E,DC1] 10.0\n",
      "Proportion[Plant E,DC2] 0.0\n",
      "Proportion[Plant E,DC3] 85.0\n",
      "Proportion[Plant E,DC4] 0.0\n",
      "Proportion[Plant E,DC5] 15.0\n",
      "Proportion[Plant E,DC6] 30.0\n",
      "Proportion[Plant E,DC7] 9900.0\n",
      "Proportion[Plant E,DC8] 9865.0\n",
      "Proportion[Plant E,DC9] 9850.0\n"
     ]
    }
   ],
   "execution_count": 19
  }
 ],
 "metadata": {
  "kernelspec": {
   "display_name": "Python 3",
   "language": "python",
   "name": "python3"
  },
  "language_info": {
   "codemirror_mode": {
    "name": "ipython",
    "version": 2
   },
   "file_extension": ".py",
   "mimetype": "text/x-python",
   "name": "python",
   "nbconvert_exporter": "python",
   "pygments_lexer": "ipython2",
   "version": "2.7.6"
  }
 },
 "nbformat": 4,
 "nbformat_minor": 5
}
