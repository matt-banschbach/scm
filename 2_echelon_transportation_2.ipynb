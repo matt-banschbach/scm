{
 "cells": [
  {
   "cell_type": "code",
   "id": "initial_id",
   "metadata": {
    "collapsed": true,
    "ExecuteTime": {
     "end_time": "2025-02-06T21:30:09.489032Z",
     "start_time": "2025-02-06T21:30:08.689648Z"
    }
   },
   "source": [
    "import pandas as pd\n",
    "import gurobipy as gp\n",
    "from gurobipy import GRB"
   ],
   "outputs": [],
   "execution_count": 1
  },
  {
   "metadata": {
    "ExecuteTime": {
     "end_time": "2025-02-06T21:30:17.197896Z",
     "start_time": "2025-02-06T21:30:17.177227Z"
    }
   },
   "cell_type": "code",
   "source": [
    "# Data for the table\n",
    "data = {\n",
    "    'Plant': ['Plant A', 'Plant B', 'Plant C', 'Plant D', 'Plant E'],\n",
    "    'DC1': [180, 110, 145, 180, 135],\n",
    "    'DC2': [215, 175, 165, 220, 165],\n",
    "    'DC3': [65, 95, 150, 175, 160],\n",
    "    'DC4': [55, 145, 95, 365, 65],\n",
    "    'DC5': [105, 165, 150, 190, 130],\n",
    "    'DC6': [110, 120, 180, 185, 150],\n",
    "    'DC7': [100, 80, 195, 155, 10000],\n",
    "    'DC8': [125, 160, 120, 265, 10000],\n",
    "    'DC9': [155, 205, 135, 290, 10000]\n",
    "}\n",
    "\n",
    "# Create a DataFrame\n",
    "costs = pd.DataFrame(data)\n",
    "costs.set_index('Plant', inplace=True)\n",
    "\n",
    "# Capacities at plants\n",
    "capacities = {\n",
    "    'Plant A': 1500,\n",
    "    'Plant B': 800,\n",
    "    'Plant C': 1190 * 0.5,\n",
    "    'Plant D': 2900 * 0.5,  # Modify this row\n",
    "    'Plant E': 1250  # Modify this row\n",
    "}\n",
    "\n",
    "# Requirements at DCs\n",
    "requirements = {\n",
    "    'DC1': 520,\n",
    "    'DC2': 800,\n",
    "    'DC3': 300,\n",
    "    'DC4': 1450,\n",
    "    'DC5': 375,\n",
    "    'DC6': 100,\n",
    "    'DC7': 935,\n",
    "    'DC8': 750,\n",
    "    'DC9': 620\n",
    "}\n",
    "\n",
    "\n",
    "no_plant_e = ['DC7', 'DC8', 'DC9']"
   ],
   "id": "48f0016626ba08c3",
   "outputs": [],
   "execution_count": 2
  },
  {
   "metadata": {
    "ExecuteTime": {
     "end_time": "2025-02-06T21:40:33.288937Z",
     "start_time": "2025-02-06T21:40:33.278876Z"
    }
   },
   "cell_type": "code",
   "source": [
    "m2 = gp.Model()\n",
    "x = m2.addVars(capacities.keys(), requirements.keys(), lb=0, name=\"Transit\")\n",
    "m2.update()"
   ],
   "id": "ab7f7365b9fbe57b",
   "outputs": [],
   "execution_count": 18
  },
  {
   "metadata": {
    "ExecuteTime": {
     "end_time": "2025-02-06T21:40:33.754585Z",
     "start_time": "2025-02-06T21:40:33.741756Z"
    }
   },
   "cell_type": "code",
   "source": [
    "demand2 = m2.addConstrs((gp.quicksum(x[i, j] for i in capacities) <= requirements[j] for j in requirements), name=\"Demand\")\n",
    "capacity2 = m2.addConstrs((gp.quicksum(x[i, j] for j in requirements) == capacities[i] for i in capacities), name=\"Capacity\")\n",
    "no_shipment2 = m2.addConstrs((x['Plant E', dc] == 0 for dc in no_plant_e), name=\"No Shipment Plant E to DC 7, 8, 9\")\n",
    "\n",
    "m2.update()"
   ],
   "id": "9c142680a51b9d1b",
   "outputs": [],
   "execution_count": 19
  },
  {
   "metadata": {
    "ExecuteTime": {
     "end_time": "2025-02-06T21:43:07.839260Z",
     "start_time": "2025-02-06T21:43:07.825010Z"
    }
   },
   "cell_type": "code",
   "source": [
    "m2.setObjective(gp.quicksum(costs.loc[i, j] * x[i, j] for i in capacities.keys() for j in requirements.keys()), GRB.MINIMIZE)\n",
    "m2.update()"
   ],
   "id": "2841a6d43e65dedd",
   "outputs": [],
   "execution_count": 20
  },
  {
   "metadata": {
    "ExecuteTime": {
     "end_time": "2025-02-06T21:43:09.542657Z",
     "start_time": "2025-02-06T21:43:09.504789Z"
    }
   },
   "cell_type": "code",
   "source": "m2.optimize()",
   "id": "de8fbf5149716fcf",
   "outputs": [
    {
     "name": "stdout",
     "output_type": "stream",
     "text": [
      "Gurobi Optimizer version 12.0.1 build v12.0.1rc0 (win64 - Windows 11.0 (26100.2))\n",
      "\n",
      "CPU model: AMD Ryzen 7 5800HS with Radeon Graphics, instruction set [SSE2|AVX|AVX2]\n",
      "Thread count: 8 physical cores, 16 logical processors, using up to 16 threads\n",
      "\n",
      "Optimize a model with 17 rows, 45 columns and 93 nonzeros\n",
      "Model fingerprint: 0x9e6d8332\n",
      "Coefficient statistics:\n",
      "  Matrix range     [1e+00, 1e+00]\n",
      "  Objective range  [6e+01, 1e+04]\n",
      "  Bounds range     [0e+00, 0e+00]\n",
      "  RHS range        [1e+02, 2e+03]\n",
      "Presolve removed 3 rows and 3 columns\n",
      "Presolve time: 0.01s\n",
      "Presolved: 14 rows, 42 columns, 84 nonzeros\n",
      "\n",
      "Iteration    Objective       Primal Inf.    Dual Inf.      Time\n",
      "       0    5.0902500e+05   4.715766e+02   0.000000e+00      0s\n",
      "      11    6.5762500e+05   0.000000e+00   0.000000e+00      0s\n",
      "\n",
      "Solved in 11 iterations and 0.02 seconds (0.00 work units)\n",
      "Optimal objective  6.576250000e+05\n"
     ]
    }
   ],
   "execution_count": 21
  },
  {
   "metadata": {
    "ExecuteTime": {
     "end_time": "2025-02-06T04:08:42.062319Z",
     "start_time": "2025-02-06T04:08:42.052792Z"
    }
   },
   "cell_type": "code",
   "source": [
    "for v in m2.getVars():\n",
    "    if v.X > 0:\n",
    "        print(v.VarName, v.X)\n",
    "\n",
    "\n",
    "print(\"Objective Value (Total Cost): \")\n",
    "print(m2.ObjVal)"
   ],
   "id": "ff4a42c6bea8a9a7",
   "outputs": [
    {
     "name": "stdout",
     "output_type": "stream",
     "text": [
      "Transit[Plant A,DC3] 300.0\n",
      "Transit[Plant A,DC4] 200.0\n",
      "Transit[Plant A,DC5] 375.0\n",
      "Transit[Plant A,DC8] 625.0\n",
      "Transit[Plant B,DC7] 800.0\n",
      "Transit[Plant C,DC8] 125.0\n",
      "Transit[Plant C,DC9] 470.0\n",
      "Transit[Plant D,DC1] 520.0\n",
      "Transit[Plant D,DC2] 695.0\n",
      "Transit[Plant D,DC6] 100.0\n",
      "Transit[Plant D,DC7] 135.0\n",
      "Transit[Plant E,DC4] 1250.0\n",
      "Objective Value (Total Cost): \n",
      "657625.0\n"
     ]
    }
   ],
   "execution_count": 16
  },
  {
   "metadata": {
    "ExecuteTime": {
     "end_time": "2025-02-06T21:33:58.298826Z",
     "start_time": "2025-02-06T21:33:58.262813Z"
    }
   },
   "cell_type": "code",
   "source": [
    "results = pd.DataFrame(index=capacities.keys(), columns=requirements.keys())\n",
    "\n",
    "# Populate the DataFrame with variable values\n",
    "for i in capacities:\n",
    "    for j in requirements:\n",
    "        results.loc[i, j] = x[i, j].X\n",
    "\n",
    "results"
   ],
   "id": "e55d917f5f768c49",
   "outputs": [
    {
     "data": {
      "text/plain": [
       "           DC1    DC2    DC3     DC4    DC5    DC6    DC7    DC8    DC9\n",
       "Plant A    0.0    0.0  300.0   200.0  375.0    0.0    0.0  625.0    0.0\n",
       "Plant B    0.0    0.0    0.0     0.0    0.0    0.0  800.0    0.0    0.0\n",
       "Plant C    0.0    0.0    0.0     0.0    0.0    0.0    0.0  125.0  470.0\n",
       "Plant D  520.0  695.0    0.0     0.0    0.0  100.0  135.0    0.0    0.0\n",
       "Plant E    0.0    0.0    0.0  1250.0    0.0    0.0    0.0    0.0    0.0"
      ],
      "text/html": [
       "<div>\n",
       "<style scoped>\n",
       "    .dataframe tbody tr th:only-of-type {\n",
       "        vertical-align: middle;\n",
       "    }\n",
       "\n",
       "    .dataframe tbody tr th {\n",
       "        vertical-align: top;\n",
       "    }\n",
       "\n",
       "    .dataframe thead th {\n",
       "        text-align: right;\n",
       "    }\n",
       "</style>\n",
       "<table border=\"1\" class=\"dataframe\">\n",
       "  <thead>\n",
       "    <tr style=\"text-align: right;\">\n",
       "      <th></th>\n",
       "      <th>DC1</th>\n",
       "      <th>DC2</th>\n",
       "      <th>DC3</th>\n",
       "      <th>DC4</th>\n",
       "      <th>DC5</th>\n",
       "      <th>DC6</th>\n",
       "      <th>DC7</th>\n",
       "      <th>DC8</th>\n",
       "      <th>DC9</th>\n",
       "    </tr>\n",
       "  </thead>\n",
       "  <tbody>\n",
       "    <tr>\n",
       "      <th>Plant A</th>\n",
       "      <td>0.0</td>\n",
       "      <td>0.0</td>\n",
       "      <td>300.0</td>\n",
       "      <td>200.0</td>\n",
       "      <td>375.0</td>\n",
       "      <td>0.0</td>\n",
       "      <td>0.0</td>\n",
       "      <td>625.0</td>\n",
       "      <td>0.0</td>\n",
       "    </tr>\n",
       "    <tr>\n",
       "      <th>Plant B</th>\n",
       "      <td>0.0</td>\n",
       "      <td>0.0</td>\n",
       "      <td>0.0</td>\n",
       "      <td>0.0</td>\n",
       "      <td>0.0</td>\n",
       "      <td>0.0</td>\n",
       "      <td>800.0</td>\n",
       "      <td>0.0</td>\n",
       "      <td>0.0</td>\n",
       "    </tr>\n",
       "    <tr>\n",
       "      <th>Plant C</th>\n",
       "      <td>0.0</td>\n",
       "      <td>0.0</td>\n",
       "      <td>0.0</td>\n",
       "      <td>0.0</td>\n",
       "      <td>0.0</td>\n",
       "      <td>0.0</td>\n",
       "      <td>0.0</td>\n",
       "      <td>125.0</td>\n",
       "      <td>470.0</td>\n",
       "    </tr>\n",
       "    <tr>\n",
       "      <th>Plant D</th>\n",
       "      <td>520.0</td>\n",
       "      <td>695.0</td>\n",
       "      <td>0.0</td>\n",
       "      <td>0.0</td>\n",
       "      <td>0.0</td>\n",
       "      <td>100.0</td>\n",
       "      <td>135.0</td>\n",
       "      <td>0.0</td>\n",
       "      <td>0.0</td>\n",
       "    </tr>\n",
       "    <tr>\n",
       "      <th>Plant E</th>\n",
       "      <td>0.0</td>\n",
       "      <td>0.0</td>\n",
       "      <td>0.0</td>\n",
       "      <td>1250.0</td>\n",
       "      <td>0.0</td>\n",
       "      <td>0.0</td>\n",
       "      <td>0.0</td>\n",
       "      <td>0.0</td>\n",
       "      <td>0.0</td>\n",
       "    </tr>\n",
       "  </tbody>\n",
       "</table>\n",
       "</div>"
      ]
     },
     "execution_count": 8,
     "metadata": {},
     "output_type": "execute_result"
    }
   ],
   "execution_count": 8
  },
  {
   "metadata": {
    "ExecuteTime": {
     "end_time": "2025-02-06T21:49:20.973262Z",
     "start_time": "2025-02-06T21:49:20.959844Z"
    }
   },
   "cell_type": "code",
   "source": [
    "unsatisfied_demand = gp.quicksum(requirements[j] - gp.quicksum(x[i, j].X for i in capacities) for j in requirements)\n",
    "unsatisfied_demand.getValue()"
   ],
   "id": "75de9b5fbd63945d",
   "outputs": [
    {
     "data": {
      "text/plain": [
       "255.0"
      ]
     },
     "execution_count": 22,
     "metadata": {},
     "output_type": "execute_result"
    }
   ],
   "execution_count": 22
  },
  {
   "metadata": {
    "ExecuteTime": {
     "end_time": "2025-02-06T21:50:39.487193Z",
     "start_time": "2025-02-06T21:50:39.474748Z"
    }
   },
   "cell_type": "code",
   "source": "sum(requirements.values()) - sum(capacities.values())",
   "id": "7e178978732a971d",
   "outputs": [
    {
     "data": {
      "text/plain": [
       "255.0"
      ]
     },
     "execution_count": 24,
     "metadata": {},
     "output_type": "execute_result"
    }
   ],
   "execution_count": 24
  }
 ],
 "metadata": {
  "kernelspec": {
   "display_name": "Python 3",
   "language": "python",
   "name": "python3"
  },
  "language_info": {
   "codemirror_mode": {
    "name": "ipython",
    "version": 2
   },
   "file_extension": ".py",
   "mimetype": "text/x-python",
   "name": "python",
   "nbconvert_exporter": "python",
   "pygments_lexer": "ipython2",
   "version": "2.7.6"
  }
 },
 "nbformat": 4,
 "nbformat_minor": 5
}
