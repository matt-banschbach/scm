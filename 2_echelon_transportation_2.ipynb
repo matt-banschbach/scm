{
 "cells": [
  {
   "cell_type": "code",
   "id": "initial_id",
   "metadata": {
    "collapsed": true,
    "ExecuteTime": {
     "end_time": "2025-02-06T03:57:58.619916Z",
     "start_time": "2025-02-06T03:57:57.428646Z"
    }
   },
   "source": [
    "import pandas as pd\n",
    "import gurobipy as gp\n",
    "from gurobipy import GRB"
   ],
   "outputs": [],
   "execution_count": 1
  },
  {
   "metadata": {
    "ExecuteTime": {
     "end_time": "2025-02-06T04:02:46.244057Z",
     "start_time": "2025-02-06T04:02:46.226962Z"
    }
   },
   "cell_type": "code",
   "source": [
    "# Data for the table\n",
    "data = {\n",
    "    'Plant': ['Plant A', 'Plant B', 'Plant C', 'Plant D', 'Plant E'],\n",
    "    'DC1': [180, 110, 145, 180, 135],\n",
    "    'DC2': [215, 175, 165, 220, 165],\n",
    "    'DC3': [65, 95, 150, 175, 160],\n",
    "    'DC4': [55, 145, 95, 365, 65],\n",
    "    'DC5': [105, 165, 150, 190, 130],\n",
    "    'DC6': [110, 120, 180, 185, 150],\n",
    "    'DC7': [100, 80, 195, 155, 10000],\n",
    "    'DC8': [125, 160, 120, 265, 10000],\n",
    "    'DC9': [155, 205, 135, 290, 10000]\n",
    "}\n",
    "\n",
    "# Create a DataFrame\n",
    "costs = pd.DataFrame(data)\n",
    "costs.set_index('Plant', inplace=True)\n",
    "\n",
    "# Capacities at plants\n",
    "capacities = {\n",
    "    'Plant A': 1500,\n",
    "    'Plant B': 800,\n",
    "    'Plant C': 1190 * 0.5,\n",
    "    'Plant D': 2900 * 0.5,  # Modify this row\n",
    "    'Plant E': 1250  # Modify this row\n",
    "}\n",
    "\n",
    "# Requirements at DCs\n",
    "requirements = {\n",
    "    'DC1': 520,\n",
    "    'DC2': 800,\n",
    "    'DC3': 300,\n",
    "    'DC4': 1450,\n",
    "    'DC5': 375,\n",
    "    'DC6': 100,\n",
    "    'DC7': 935,\n",
    "    'DC8': 750,\n",
    "    'DC9': 620\n",
    "}\n",
    "\n",
    "\n",
    "no_plant_e = ['DC7', 'DC8', 'DC9']"
   ],
   "id": "48f0016626ba08c3",
   "outputs": [],
   "execution_count": 2
  },
  {
   "metadata": {
    "ExecuteTime": {
     "end_time": "2025-02-06T04:02:47.491625Z",
     "start_time": "2025-02-06T04:02:47.474130Z"
    }
   },
   "cell_type": "code",
   "source": [
    "m = gp.Model()\n",
    "x = m.addVars(capacities.keys(), requirements.keys(), lb=0, name=\"Proportion\")\n",
    "m.update()"
   ],
   "id": "12d52b9553ab3b72",
   "outputs": [
    {
     "name": "stdout",
     "output_type": "stream",
     "text": [
      "Set parameter Username\n",
      "Academic license - for non-commercial use only - expires 2026-01-17\n"
     ]
    }
   ],
   "execution_count": 3
  },
  {
   "metadata": {
    "ExecuteTime": {
     "end_time": "2025-02-06T04:02:48.804738Z",
     "start_time": "2025-02-06T04:02:48.795747Z"
    }
   },
   "cell_type": "code",
   "source": [
    "capacity = m.addConstrs((gp.quicksum(x[i, j] for j in requirements.keys()) <= capacities[i] for i in capacities.keys()), name=\"Capacity\")\n",
    "\n",
    "no_shipment = m.addConstrs((x['Plant E', dc] == 0 for dc in no_plant_e), name=\"No Shipment Plant E to DC 7, 8, 9\")\n",
    "m.update()"
   ],
   "id": "1aa5e9081bc7e325",
   "outputs": [],
   "execution_count": 4
  },
  {
   "metadata": {
    "ExecuteTime": {
     "end_time": "2025-02-06T04:02:49.541837Z",
     "start_time": "2025-02-06T04:02:49.531562Z"
    }
   },
   "cell_type": "code",
   "source": [
    "m.setObjective(gp.quicksum((requirements[j] - x[i, j]) for i in capacities for j in requirements), GRB.MINIMIZE)\n",
    "m.update()"
   ],
   "id": "896d8edbf84c2f0a",
   "outputs": [],
   "execution_count": 5
  },
  {
   "metadata": {
    "ExecuteTime": {
     "end_time": "2025-02-06T04:02:52.802821Z",
     "start_time": "2025-02-06T04:02:52.769524Z"
    }
   },
   "cell_type": "code",
   "source": "m.optimize()",
   "id": "73d704f8af430e0c",
   "outputs": [
    {
     "name": "stdout",
     "output_type": "stream",
     "text": [
      "Gurobi Optimizer version 12.0.1 build v12.0.1rc0 (win64 - Windows 11.0 (26100.2))\n",
      "\n",
      "CPU model: AMD Ryzen 7 5800HS with Radeon Graphics, instruction set [SSE2|AVX|AVX2]\n",
      "Thread count: 8 physical cores, 16 logical processors, using up to 16 threads\n",
      "\n",
      "Optimize a model with 8 rows, 45 columns and 48 nonzeros\n",
      "Model fingerprint: 0x519f46b0\n",
      "Coefficient statistics:\n",
      "  Matrix range     [1e+00, 1e+00]\n",
      "  Objective range  [1e+00, 1e+00]\n",
      "  Bounds range     [0e+00, 0e+00]\n",
      "  RHS range        [6e+02, 2e+03]\n",
      "Presolve removed 8 rows and 45 columns\n",
      "Presolve time: 0.01s\n",
      "Presolve: All rows and columns removed\n",
      "Iteration    Objective       Primal Inf.    Dual Inf.      Time\n",
      "       0    2.3655000e+04   0.000000e+00   0.000000e+00      0s\n",
      "\n",
      "Solved in 0 iterations and 0.02 seconds (0.00 work units)\n",
      "Optimal objective  2.365500000e+04\n"
     ]
    }
   ],
   "execution_count": 6
  },
  {
   "metadata": {
    "ExecuteTime": {
     "end_time": "2025-02-06T04:04:16.248932Z",
     "start_time": "2025-02-06T04:04:16.229188Z"
    }
   },
   "cell_type": "code",
   "source": "cost = gp.quicksum(costs.loc[i, j] * x[i, j].X for i in capacities for j in requirements)",
   "id": "41ac86473c720412",
   "outputs": [],
   "execution_count": 8
  },
  {
   "metadata": {
    "ExecuteTime": {
     "end_time": "2025-02-06T04:04:38.733955Z",
     "start_time": "2025-02-06T04:04:38.725598Z"
    }
   },
   "cell_type": "code",
   "source": "cost.getValue()",
   "id": "4b5aa3f7f0b46d9c",
   "outputs": [
    {
     "data": {
      "text/plain": [
       "780575.0"
      ]
     },
     "execution_count": 10,
     "metadata": {},
     "output_type": "execute_result"
    }
   ],
   "execution_count": 10
  },
  {
   "metadata": {},
   "cell_type": "markdown",
   "source": "### Option 2: Tighten Capacity Constraint, relax demand constraint",
   "id": "f8ae3c54ef45b72"
  },
  {
   "metadata": {
    "ExecuteTime": {
     "end_time": "2025-02-06T04:07:43.970186Z",
     "start_time": "2025-02-06T04:07:43.962533Z"
    }
   },
   "cell_type": "code",
   "source": [
    "m2 = gp.Model()\n",
    "x = m2.addVars(capacities.keys(), requirements.keys(), lb=0, name=\"Transit\")\n",
    "m2.update()"
   ],
   "id": "ab7f7365b9fbe57b",
   "outputs": [],
   "execution_count": 11
  },
  {
   "metadata": {
    "ExecuteTime": {
     "end_time": "2025-02-06T04:07:48.014543Z",
     "start_time": "2025-02-06T04:07:48.003528Z"
    }
   },
   "cell_type": "code",
   "source": [
    "demand2 = m2.addConstrs((gp.quicksum(x[i, j] for i in capacities.keys()) <= requirements[j] for j in requirements.keys()), name=\"Demand\")\n",
    "capacity2 = m2.addConstrs((gp.quicksum(x[i, j] for j in requirements.keys()) == capacities[i] for i in capacities.keys()), name=\"Capacity\")\n",
    "no_shipment2 = m2.addConstrs((x['Plant E', dc] == 0 for dc in no_plant_e), name=\"No Shipment Plant E to DC 7, 8, 9\")\n",
    "\n",
    "m2.update()"
   ],
   "id": "9c142680a51b9d1b",
   "outputs": [],
   "execution_count": 12
  },
  {
   "metadata": {
    "ExecuteTime": {
     "end_time": "2025-02-06T04:08:08.359326Z",
     "start_time": "2025-02-06T04:08:08.349717Z"
    }
   },
   "cell_type": "code",
   "source": [
    "m2.setObjective(gp.quicksum(costs.loc[i, j] * x[i, j] for i in capacities.keys() for j in requirements.keys()), GRB.MINIMIZE)\n",
    "m2.update()"
   ],
   "id": "2841a6d43e65dedd",
   "outputs": [],
   "execution_count": 13
  },
  {
   "metadata": {
    "ExecuteTime": {
     "end_time": "2025-02-06T04:08:09.552675Z",
     "start_time": "2025-02-06T04:08:09.510385Z"
    }
   },
   "cell_type": "code",
   "source": "m2.optimize()",
   "id": "de8fbf5149716fcf",
   "outputs": [
    {
     "name": "stdout",
     "output_type": "stream",
     "text": [
      "Gurobi Optimizer version 12.0.1 build v12.0.1rc0 (win64 - Windows 11.0 (26100.2))\n",
      "\n",
      "CPU model: AMD Ryzen 7 5800HS with Radeon Graphics, instruction set [SSE2|AVX|AVX2]\n",
      "Thread count: 8 physical cores, 16 logical processors, using up to 16 threads\n",
      "\n",
      "Optimize a model with 17 rows, 45 columns and 93 nonzeros\n",
      "Model fingerprint: 0x9e6d8332\n",
      "Coefficient statistics:\n",
      "  Matrix range     [1e+00, 1e+00]\n",
      "  Objective range  [6e+01, 1e+04]\n",
      "  Bounds range     [0e+00, 0e+00]\n",
      "  RHS range        [1e+02, 2e+03]\n",
      "Presolve removed 3 rows and 3 columns\n",
      "Presolve time: 0.01s\n",
      "Presolved: 14 rows, 42 columns, 84 nonzeros\n",
      "\n",
      "Iteration    Objective       Primal Inf.    Dual Inf.      Time\n",
      "       0    5.0902500e+05   4.715766e+02   0.000000e+00      0s\n",
      "      11    6.5762500e+05   0.000000e+00   0.000000e+00      0s\n",
      "\n",
      "Solved in 11 iterations and 0.02 seconds (0.00 work units)\n",
      "Optimal objective  6.576250000e+05\n"
     ]
    }
   ],
   "execution_count": 14
  },
  {
   "metadata": {
    "ExecuteTime": {
     "end_time": "2025-02-06T04:08:42.062319Z",
     "start_time": "2025-02-06T04:08:42.052792Z"
    }
   },
   "cell_type": "code",
   "source": [
    "for v in m2.getVars():\n",
    "    if v.X > 0:\n",
    "        print(v.VarName, v.X)\n",
    "\n",
    "\n",
    "print(\"Objective Value (Total Cost): \")\n",
    "print(m2.ObjVal)"
   ],
   "id": "ff4a42c6bea8a9a7",
   "outputs": [
    {
     "name": "stdout",
     "output_type": "stream",
     "text": [
      "Transit[Plant A,DC3] 300.0\n",
      "Transit[Plant A,DC4] 200.0\n",
      "Transit[Plant A,DC5] 375.0\n",
      "Transit[Plant A,DC8] 625.0\n",
      "Transit[Plant B,DC7] 800.0\n",
      "Transit[Plant C,DC8] 125.0\n",
      "Transit[Plant C,DC9] 470.0\n",
      "Transit[Plant D,DC1] 520.0\n",
      "Transit[Plant D,DC2] 695.0\n",
      "Transit[Plant D,DC6] 100.0\n",
      "Transit[Plant D,DC7] 135.0\n",
      "Transit[Plant E,DC4] 1250.0\n",
      "Objective Value (Total Cost): \n",
      "657625.0\n"
     ]
    }
   ],
   "execution_count": 16
  },
  {
   "metadata": {},
   "cell_type": "markdown",
   "source": "### Option 3: Multi-objective optimization with Pareto Optimality",
   "id": "bbc3efc8e32710fe"
  }
 ],
 "metadata": {
  "kernelspec": {
   "display_name": "Python 3",
   "language": "python",
   "name": "python3"
  },
  "language_info": {
   "codemirror_mode": {
    "name": "ipython",
    "version": 2
   },
   "file_extension": ".py",
   "mimetype": "text/x-python",
   "name": "python",
   "nbconvert_exporter": "python",
   "pygments_lexer": "ipython2",
   "version": "2.7.6"
  }
 },
 "nbformat": 4,
 "nbformat_minor": 5
}
