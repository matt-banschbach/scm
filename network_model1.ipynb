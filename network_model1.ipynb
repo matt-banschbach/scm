{
 "cells": [
  {
   "cell_type": "code",
   "id": "initial_id",
   "metadata": {
    "collapsed": true,
    "ExecuteTime": {
     "end_time": "2025-02-20T21:55:26.420887Z",
     "start_time": "2025-02-20T21:55:26.381613Z"
    }
   },
   "source": [
    "import gurobipy as gp\n",
    "from gurobipy import GRB\n",
    "import numpy as np\n",
    "import pandas as pd"
   ],
   "outputs": [],
   "execution_count": 52
  },
  {
   "metadata": {
    "ExecuteTime": {
     "end_time": "2025-02-20T22:07:39.630660Z",
     "start_time": "2025-02-20T22:07:39.623924Z"
    }
   },
   "cell_type": "code",
   "source": [
    "cities = [\"Adelaide\", \"Brisbane\", \"Melbourne\", \"Perth\", \"Sydney\"]\n",
    "\n",
    "LCL = dict(zip(cities, [25,20,23,15,22]))\n",
    "\n",
    "CF = dict(zip(cities, [2000, 1600, 1800, 1200, 1650]))\n",
    "\n",
    "CH = dict(zip(cities, [1200, 1000, 1100, 700, 1050]))\n",
    "\n",
    "D = dict(zip(cities, [420, 870, 1250, 930, 1310]))\n",
    "\n",
    "road_data = {\n",
    "    'Adelaide': [0, 35, 10, 35, 25],\n",
    "    'Brisbane': [35, 0, 25, 70, 15],\n",
    "    'Melbourne': [10, 25, 0, 45, 15],\n",
    "    'Perth': [35, 70, 45, 0, 55],\n",
    "    'Sydney': [25, 15, 15, 55, 0]\n",
    "}\n",
    "\n",
    "C = pd.DataFrame(road_data, index=['Adelaide', 'Brisbane', 'Melbourne', 'Perth', 'Sydney'])\n",
    "\n",
    "L = dict(zip(cities, [30, 21, 28, 18, 25]))\n",
    "\n",
    "p = dict(zip(cities, [450,480, 505, 490, 515]))\n",
    "\n",
    "\n",
    "O_FC = 440\n"
   ],
   "id": "3f162ef2184dfcb",
   "outputs": [],
   "execution_count": 74
  },
  {
   "metadata": {
    "ExecuteTime": {
     "end_time": "2025-02-20T22:07:39.965031Z",
     "start_time": "2025-02-20T22:07:39.950269Z"
    }
   },
   "cell_type": "code",
   "source": [
    "m = gp.Model()\n",
    "\n",
    "# VARIABLES\n",
    "\n",
    "s_f = m.addVars(cities, vtype=GRB.INTEGER, lb=0.0, name='S_F')\n",
    "s_h = m.addVars(cities, vtype=GRB.INTEGER, lb=0.0, name='S_H')\n",
    "s_lcl = m.addVars(cities, vtype=GRB.INTEGER, lb=0.0, name='S_LCL')\n",
    "Q = m.addVars(cities, cities, vtype=GRB.INTEGER, lb=0.0, name='Q')\n",
    "V = m.addVars(cities, vtype=GRB.INTEGER, lb=0.0, name='V')\n",
    "b = m.addVars(cities, vtype=GRB.BINARY, name='b')\n",
    "R = m.addVars(cities, cities, vtype=GRB.INTEGER, lb=0.0, name='R')\n",
    "\n",
    "m.update()\n",
    "\n",
    "# CONSTRAINTS\n",
    "\n",
    "one_city = m.addConstr(gp.quicksum(b[i] for i in cities) == 1, name='one city')\n",
    "\n",
    "domes_prod = m.addConstrs((V[i] <= 500 * b[i] for i in cities), name='domes production')\n",
    "\n",
    "domes_capacity = m.addConstrs((gp.quicksum(Q[i, j] for j in cities) <= V[i] for i in cities), name='domes capacity')\n",
    "\n",
    "demand = m.addConstrs(((200*s_f[i]) + (100*s_h[i]) + s_lcl[i] + gp.quicksum(Q[i, j] for j in cities) + gp.quicksum(R[j, i] for j in cities) - gp.quicksum(R[i, j] for j in cities) >= D[i] for i in cities))\n",
    "\n",
    "# disallow_road_transport = m.addConstrs(R[i, j] == 0 for i in cities for j in cities)\n",
    "\n",
    "m.update()\n",
    "\n",
    "# OBJECTIVE FUNCTION\n",
    "\n",
    "\n",
    "\n",
    "C_ovis = gp.quicksum(CF[i]*s_f[i] + CH[i]+s_h[i] + LCL[i]*s_lcl[i] for i in cities)\n",
    "\n",
    "C_domes = gp.quicksum(C.loc[i, j] * Q[i, j] for i in cities for j in cities)\n",
    "\n",
    "C_transfer = gp.quicksum(C.loc[i, j] * R[i, j] for i in cities for j in cities)\n",
    "\n",
    "C_ovis_prod = gp.quicksum(440 * ((200*s_f[i]) + (100*s_h[i]) + s_lcl[i]) for i in cities)\n",
    "\n",
    "C_domes_prod = gp.quicksum(p[i] * V[i] for i in cities)\n",
    "\n",
    "C_I = gp.quicksum(440 * ((200*s_f[i]) + (100*s_h[i]) + s_lcl[i]) * 0.15 * (L[i] / 365) for i in cities)\n",
    "\n",
    "m.setObjective(C_ovis + C_domes + C_transfer + C_ovis_prod + C_domes_prod + C_I, GRB.MINIMIZE)\n",
    "m.update()"
   ],
   "id": "ebafdd56d94abedd",
   "outputs": [],
   "execution_count": 75
  },
  {
   "metadata": {
    "ExecuteTime": {
     "end_time": "2025-02-20T22:07:40.900838Z",
     "start_time": "2025-02-20T22:07:40.897482Z"
    }
   },
   "cell_type": "code",
   "source": "# m.setParam('MIPGap', 0.1)",
   "id": "bc839941fe76b99a",
   "outputs": [
    {
     "name": "stdout",
     "output_type": "stream",
     "text": [
      "Set parameter MIPGap to value 0.1\n"
     ]
    }
   ],
   "execution_count": 76
  },
  {
   "metadata": {
    "ExecuteTime": {
     "end_time": "2025-02-20T22:07:41.706265Z",
     "start_time": "2025-02-20T22:07:41.685280Z"
    }
   },
   "cell_type": "code",
   "source": "m.optimize()",
   "id": "15673ac2d423e6ba",
   "outputs": [
    {
     "name": "stdout",
     "output_type": "stream",
     "text": [
      "Gurobi Optimizer version 12.0.1 build v12.0.1rc0 (win64 - Windows 11.0 (26100.2))\n",
      "\n",
      "CPU model: AMD Ryzen 7 5800HS with Radeon Graphics, instruction set [SSE2|AVX|AVX2]\n",
      "Thread count: 8 physical cores, 16 logical processors, using up to 16 threads\n",
      "\n",
      "Non-default parameters:\n",
      "MIPGap  0.1\n",
      "\n",
      "Optimize a model with 16 rows, 75 columns and 125 nonzeros\n",
      "Model fingerprint: 0x0fb99d1b\n",
      "Variable types: 0 continuous, 75 integer (5 binary)\n",
      "Coefficient statistics:\n",
      "  Matrix range     [1e+00, 5e+02]\n",
      "  Objective range  [1e+01, 9e+04]\n",
      "  Bounds range     [1e+00, 1e+00]\n",
      "  RHS range        [1e+00, 1e+03]\n",
      "Found heuristic solution: objective 2228529.6164\n",
      "Presolve removed 11 rows and 39 columns\n",
      "Presolve time: 0.00s\n",
      "Presolved: 5 rows, 36 columns, 56 nonzeros\n",
      "Variable types: 0 continuous, 36 integer (0 binary)\n",
      "\n",
      "Root relaxation: interrupted, 5 iterations, 0.00 seconds (0.00 work units)\n",
      "\n",
      "    Nodes    |    Current Node    |     Objective Bounds      |     Work\n",
      " Expl Unexpl |  Obj  Depth IntInf | Incumbent    BestBd   Gap | It/Node Time\n",
      "\n",
      "     0     0          -    0      2228529.62 2043055.72  8.32%     -    0s\n",
      "\n",
      "Explored 1 nodes (5 simplex iterations) in 0.01 seconds (0.00 work units)\n",
      "Thread count was 16 (of 16 available processors)\n",
      "\n",
      "Solution count 1: 2.22853e+06 \n",
      "\n",
      "Optimal solution found (tolerance 1.00e-01)\n",
      "Best objective 2.228529616438e+06, best bound 2.043055717808e+06, gap 8.3227%\n"
     ]
    }
   ],
   "execution_count": 77
  },
  {
   "metadata": {
    "ExecuteTime": {
     "end_time": "2025-02-20T22:07:35.483683Z",
     "start_time": "2025-02-20T22:07:35.476249Z"
    }
   },
   "cell_type": "code",
   "source": "m.ObjVal",
   "id": "d8a74abee897ff75",
   "outputs": [
    {
     "data": {
      "text/plain": [
       "2149731.8356164386"
      ]
     },
     "execution_count": 73,
     "metadata": {},
     "output_type": "execute_result"
    }
   ],
   "execution_count": 73
  },
  {
   "metadata": {
    "ExecuteTime": {
     "end_time": "2025-02-20T02:09:09.602892Z",
     "start_time": "2025-02-20T02:09:09.592891Z"
    }
   },
   "cell_type": "code",
   "source": "C_domes.getValue()",
   "id": "55f4f41c0ef72db4",
   "outputs": [
    {
     "data": {
      "text/plain": [
       "0.0"
      ]
     },
     "execution_count": 98,
     "metadata": {},
     "output_type": "execute_result"
    }
   ],
   "execution_count": 98
  },
  {
   "metadata": {
    "ExecuteTime": {
     "end_time": "2025-02-20T02:09:43.551528Z",
     "start_time": "2025-02-20T02:09:43.543391Z"
    }
   },
   "cell_type": "code",
   "source": [
    "for v in b:\n",
    "    if b[v].X > 0:\n",
    "        print(b[v].VarName)\n",
    "\n",
    "# Build the Domes facility here!"
   ],
   "id": "c837f51980be5732",
   "outputs": [],
   "execution_count": 102
  },
  {
   "metadata": {},
   "cell_type": "markdown",
   "source": [
    "Cost with 0 Domes Locations, and no road transit: `2,132,875.61`\n",
    "\n",
    "Cost with 0 Domes Locations, and allowing road network transit `2,131,414.06`\n",
    "\n",
    "Cost with 1 Domes Location, and allowing road network transit: `2,130,763.68`\n"
   ],
   "id": "e37f7977b02a4284"
  },
  {
   "metadata": {
    "ExecuteTime": {
     "end_time": "2025-02-20T02:14:38.051404Z",
     "start_time": "2025-02-20T02:14:38.045053Z"
    }
   },
   "cell_type": "code",
   "source": [
    "cost_q1 = 2132875.61\n",
    "cost_q2 = 2131414.06\n",
    "cost_q4 = 2130763.68"
   ],
   "id": "2f52fc30faf137b8",
   "outputs": [],
   "execution_count": 109
  },
  {
   "metadata": {
    "ExecuteTime": {
     "end_time": "2025-02-20T02:13:14.430501Z",
     "start_time": "2025-02-20T02:13:14.422030Z"
    }
   },
   "cell_type": "code",
   "source": "cost_q1 - cost_q2",
   "id": "36662194bc24af3e",
   "outputs": [
    {
     "data": {
      "text/plain": [
       "1461.5499999998137"
      ]
     },
     "execution_count": 104,
     "metadata": {},
     "output_type": "execute_result"
    }
   ],
   "execution_count": 104
  },
  {
   "metadata": {
    "ExecuteTime": {
     "end_time": "2025-02-20T02:14:40.738844Z",
     "start_time": "2025-02-20T02:14:40.729252Z"
    }
   },
   "cell_type": "code",
   "source": "cost_q1 - cost_q4",
   "id": "40e4ab53371c29a6",
   "outputs": [
    {
     "data": {
      "text/plain": [
       "2111.929999999702"
      ]
     },
     "execution_count": 110,
     "metadata": {},
     "output_type": "execute_result"
    }
   ],
   "execution_count": 110
  },
  {
   "metadata": {
    "ExecuteTime": {
     "end_time": "2025-02-20T02:14:47.552291Z",
     "start_time": "2025-02-20T02:14:47.541663Z"
    }
   },
   "cell_type": "code",
   "source": "cost_q2-cost_q4",
   "id": "72e0593b70e92b5",
   "outputs": [
    {
     "data": {
      "text/plain": [
       "650.3799999998882"
      ]
     },
     "execution_count": 111,
     "metadata": {},
     "output_type": "execute_result"
    }
   ],
   "execution_count": 111
  },
  {
   "metadata": {
    "ExecuteTime": {
     "end_time": "2025-02-20T03:14:38.027249Z",
     "start_time": "2025-02-20T03:14:38.022108Z"
    }
   },
   "cell_type": "code",
   "source": [
    "def nonzeroes(var):  # use this to check results\n",
    "    for v in var:\n",
    "        if var[v].X > 0:\n",
    "            print(var[v].VarName, var[v].X)"
   ],
   "id": "be406c62ba962c09",
   "outputs": [],
   "execution_count": 24
  },
  {
   "metadata": {
    "ExecuteTime": {
     "end_time": "2025-02-20T03:21:10.819015Z",
     "start_time": "2025-02-20T03:21:10.813064Z"
    }
   },
   "cell_type": "code",
   "source": "nonzeroes(s_h)",
   "id": "2bb99ed2c24342db",
   "outputs": [
    {
     "name": "stdout",
     "output_type": "stream",
     "text": [
      "S_H[Adelaide] 4.0\n",
      "S_H[Brisbane] 9.0\n",
      "S_H[Melbourne] 12.0\n",
      "S_H[Perth] 9.0\n",
      "S_H[Sydney] 13.0\n"
     ]
    }
   ],
   "execution_count": 42
  },
  {
   "metadata": {},
   "cell_type": "code",
   "outputs": [],
   "execution_count": null,
   "source": "",
   "id": "78e80a95a39ea626"
  }
 ],
 "metadata": {
  "kernelspec": {
   "display_name": "Python 3",
   "language": "python",
   "name": "python3"
  },
  "language_info": {
   "codemirror_mode": {
    "name": "ipython",
    "version": 2
   },
   "file_extension": ".py",
   "mimetype": "text/x-python",
   "name": "python",
   "nbconvert_exporter": "python",
   "pygments_lexer": "ipython2",
   "version": "2.7.6"
  }
 },
 "nbformat": 4,
 "nbformat_minor": 5
}
