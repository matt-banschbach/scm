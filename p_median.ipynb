{
 "cells": [
  {
   "cell_type": "code",
   "id": "initial_id",
   "metadata": {
    "collapsed": true,
    "ExecuteTime": {
     "end_time": "2025-02-06T04:22:43.454573Z",
     "start_time": "2025-02-06T04:22:43.448600Z"
    }
   },
   "source": [
    "import gurobipy as gp\n",
    "import pandas as pd\n",
    "from gurobipy import GRB"
   ],
   "outputs": [],
   "execution_count": 4
  },
  {
   "metadata": {
    "ExecuteTime": {
     "end_time": "2025-02-06T04:32:28.411840Z",
     "start_time": "2025-02-06T04:32:28.398341Z"
    }
   },
   "cell_type": "code",
   "source": [
    "import pandas as pd\n",
    "\n",
    "# Create the distance matrix as a list of lists\n",
    "distance_matrix = [\n",
    "    [0, 318, 164, 374, 463, 387, 504, 652, 568],\n",
    "    [318, 0, 210, 456, 518, 650, 362, 677, 345],\n",
    "    [164, 210, 0, 251, 382, 415, 415, 518, 534],\n",
    "    [374, 456, 251, 0, 147, 208, 269, 322, 752],\n",
    "    [463, 518, 382, 147, 0, 270, 248, 215, 800],\n",
    "    [387, 650, 415, 208, 270, 0, 456, 346, 869],\n",
    "    [504, 362, 415, 269, 248, 456, 0, 355, 684],\n",
    "    [652, 677, 518, 322, 215, 346, 355, 0, 984],\n",
    "    [568, 345, 534, 752, 800, 869, 684, 984, 0]\n",
    "]\n",
    "\n",
    "# List of cities\n",
    "cities = [\n",
    "    \"Baton Rouge\", \"Little Rock\", \"Jackson\", \"Montgomery\", \"Atlanta\",\n",
    "    \"Tallahassee\", \"Nashville\", \"Columbia\", \"Oklahoma City\"\n",
    "]\n",
    "\n",
    "distance = pd.DataFrame(distance_matrix, index=cities, columns=cities)\n",
    "\n",
    "demands = {\n",
    "    \"Baton Rouge\": 4590,\n",
    "    \"Little Rock\": 3055,\n",
    "    \"Jackson\": 6205,\n",
    "    \"Montgomery\": 5080,\n",
    "    \"Atlanta\": 10912,\n",
    "    \"Tallahassee\": 22244,\n",
    "    \"Nashville\": 7051,\n",
    "    \"Columbia\": 5282,\n",
    "    \"Oklahoma City\": 8023\n",
    "}\n",
    "p = 4"
   ],
   "id": "e868f9ac60b27086",
   "outputs": [],
   "execution_count": 10
  },
  {
   "metadata": {
    "ExecuteTime": {
     "end_time": "2025-02-06T04:32:28.922445Z",
     "start_time": "2025-02-06T04:32:28.913524Z"
    }
   },
   "cell_type": "code",
   "source": [
    "m = gp.Model(\"p-median\")\n",
    "y = m.addVars(cities, cities, vtype=GRB.BINARY, name=\"Assignment\")\n",
    "x = m.addVars(cities, vtype=GRB.BINARY, name=\"Facility Location\")\n",
    "m.update()"
   ],
   "id": "8d2dc7c6e0c572dc",
   "outputs": [],
   "execution_count": 11
  },
  {
   "metadata": {
    "ExecuteTime": {
     "end_time": "2025-02-06T04:32:29.438599Z",
     "start_time": "2025-02-06T04:32:29.423089Z"
    }
   },
   "cell_type": "code",
   "source": [
    "all_cities_assigned = m.addConstrs((gp.quicksum(y[i, j] for j in cities) == 1 for i in cities), name=\"All Assigned\")\n",
    "only_designated_facilities = m.addConstrs((y[i, j] <= x[j] for i in cities for j in cities), name=\"Assign to Facility\")\n",
    "p_constraint = m.addConstr(gp.quicksum(x[j] for j in cities) == p, name=\"p_constraint\")\n",
    "m.update()"
   ],
   "id": "8111db5236beeb39",
   "outputs": [],
   "execution_count": 12
  },
  {
   "metadata": {
    "ExecuteTime": {
     "end_time": "2025-02-06T04:32:30.663936Z",
     "start_time": "2025-02-06T04:32:30.653486Z"
    }
   },
   "cell_type": "code",
   "source": [
    "m.setObjective(gp.quicksum(demands[i] * distance.loc[i, j] * y[i, j] for i in cities for j in cities), GRB.MINIMIZE)\n",
    "m.update()"
   ],
   "id": "1289a2afbd90deb6",
   "outputs": [],
   "execution_count": 13
  },
  {
   "metadata": {
    "ExecuteTime": {
     "end_time": "2025-02-06T04:32:34.968514Z",
     "start_time": "2025-02-06T04:32:34.886510Z"
    }
   },
   "cell_type": "code",
   "source": "m.optimize()",
   "id": "25c8fca8d1a8a1b2",
   "outputs": [
    {
     "name": "stdout",
     "output_type": "stream",
     "text": [
      "Gurobi Optimizer version 12.0.1 build v12.0.1rc0 (win64 - Windows 11.0 (26100.2))\n",
      "\n",
      "CPU model: AMD Ryzen 7 5800HS with Radeon Graphics, instruction set [SSE2|AVX|AVX2]\n",
      "Thread count: 8 physical cores, 16 logical processors, using up to 16 threads\n",
      "\n",
      "Optimize a model with 91 rows, 90 columns and 252 nonzeros\n",
      "Model fingerprint: 0x0999ea9f\n",
      "Variable types: 0 continuous, 90 integer (90 binary)\n",
      "Coefficient statistics:\n",
      "  Matrix range     [1e+00, 1e+00]\n",
      "  Objective range  [6e+05, 2e+07]\n",
      "  Bounds range     [1e+00, 1e+00]\n",
      "  RHS range        [1e+00, 4e+00]\n",
      "Found heuristic solution: objective 3.140071e+07\n",
      "Presolve time: 0.02s\n",
      "Presolved: 91 rows, 90 columns, 252 nonzeros\n",
      "Variable types: 0 continuous, 90 integer (90 binary)\n",
      "\n",
      "Root relaxation: objective 5.025348e+06, 27 iterations, 0.00 seconds (0.00 work units)\n",
      "\n",
      "    Nodes    |    Current Node    |     Objective Bounds      |     Work\n",
      " Expl Unexpl |  Obj  Depth IntInf | Incumbent    BestBd   Gap | It/Node Time\n",
      "\n",
      "*    0     0               0    5025348.0000 5025348.00  0.00%     -    0s\n",
      "\n",
      "Explored 1 nodes (27 simplex iterations) in 0.06 seconds (0.00 work units)\n",
      "Thread count was 16 (of 16 available processors)\n",
      "\n",
      "Solution count 2: 5.02535e+06 3.14007e+07 \n",
      "\n",
      "Optimal solution found (tolerance 1.00e-04)\n",
      "Best objective 5.025348000000e+06, best bound 5.025348000000e+06, gap 0.0000%\n"
     ]
    }
   ],
   "execution_count": 14
  },
  {
   "metadata": {},
   "cell_type": "code",
   "outputs": [],
   "execution_count": null,
   "source": "",
   "id": "6dfa64be62674908"
  }
 ],
 "metadata": {
  "kernelspec": {
   "display_name": "Python 3",
   "language": "python",
   "name": "python3"
  },
  "language_info": {
   "codemirror_mode": {
    "name": "ipython",
    "version": 2
   },
   "file_extension": ".py",
   "mimetype": "text/x-python",
   "name": "python",
   "nbconvert_exporter": "python",
   "pygments_lexer": "ipython2",
   "version": "2.7.6"
  }
 },
 "nbformat": 4,
 "nbformat_minor": 5
}
